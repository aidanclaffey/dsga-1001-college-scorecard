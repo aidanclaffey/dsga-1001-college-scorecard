{
 "cells": [
  {
   "cell_type": "code",
   "execution_count": 1,
   "metadata": {},
   "outputs": [],
   "source": [
    "from collections import defaultdict\n",
    "import re\n",
    "import matplotlib.pyplot as plt\n",
    "import numpy as np\n",
    "import pandas as pd\n",
    "\n",
    "%matplotlib inline\n",
    "%config InlineBackend.figure_format = 'retina'"
   ]
  },
  {
   "cell_type": "markdown",
   "metadata": {},
   "source": [
    "## Create a data dictionary we can use for reference.\n",
    "\n",
    "We load `data_dict.csv` to get the meaning and data type of each column, as well as possible value-label pairings."
   ]
  },
  {
   "cell_type": "code",
   "execution_count": 2,
   "metadata": {},
   "outputs": [],
   "source": [
    "dd = pd.read_csv(\"data_dict.csv\")\n",
    "dd = dd.drop([\"NOTES\", \"SOURCE\"], axis=1)\n",
    "# clean up the column names\n",
    "dd.columns = [\"_\".join(re.split(\"-| \", col.lower())) for col in dd.columns]\n",
    "dd = dd.set_index(\"variable_name\")\n",
    "# remove all value-label info; we'll deal with that next\n",
    "data_dict = dd[~pd.isna(dd.index)].drop([\"value\", \"label\"], axis=1)"
   ]
  },
  {
   "cell_type": "code",
   "execution_count": 3,
   "metadata": {},
   "outputs": [
    {
     "data": {
      "text/plain": [
       "name_of_data_element       Unit ID for institution\n",
       "dev_category                                  root\n",
       "developer_friendly_name                         id\n",
       "api_data_type                              integer\n",
       "Name: UNITID, dtype: object"
      ]
     },
     "execution_count": 3,
     "metadata": {},
     "output_type": "execute_result"
    }
   ],
   "source": [
    "data_dict.loc['UNITID']"
   ]
  },
  {
   "cell_type": "markdown",
   "metadata": {},
   "source": [
    "## Create a mapping of integer factors to their actual meanings"
   ]
  },
  {
   "cell_type": "code",
   "execution_count": 4,
   "metadata": {},
   "outputs": [],
   "source": [
    "label_dict = defaultdict(dict)\n",
    "last_col = dd.index[0]\n",
    "for row in dd.iterrows():\n",
    "    index = row[0]\n",
    "    if pd.isna(index):\n",
    "        index = last_col\n",
    "    else:\n",
    "        last_col = index\n",
    "    if not pd.isna(row[1].value):\n",
    "        label_dict[index][row[1].value] = row[1].label"
   ]
  },
  {
   "cell_type": "code",
   "execution_count": 5,
   "metadata": {},
   "outputs": [
    {
     "data": {
      "text/plain": [
       "{0.0: 'Not classified',\n",
       " 1.0: 'Predominantly certificate-degree granting',\n",
       " 2.0: \"Predominantly associate's-degree granting\",\n",
       " 3.0: \"Predominantly bachelor's-degree granting\",\n",
       " 4.0: 'Entirely graduate-degree granting'}"
      ]
     },
     "execution_count": 5,
     "metadata": {},
     "output_type": "execute_result"
    }
   ],
   "source": [
    "label_dict['PREDDEG']"
   ]
  },
  {
   "cell_type": "markdown",
   "metadata": {},
   "source": [
    "## First attept of choosing candidate columns"
   ]
  },
  {
   "cell_type": "code",
   "execution_count": 6,
   "metadata": {},
   "outputs": [],
   "source": [
    "cols = [\n",
    "    \"UNITID\",  # maybe concatenate with year\n",
    "    \"INSTNM\",\n",
    "    \"STABBR\",\n",
    "    \"ACCREDAGENCY\",\n",
    "    \"HCM2\",\n",
    "    \"MAIN\",\n",
    "    \"NUMBRANCH\",\n",
    "    \"PREDDEG\",  # filter out 4\n",
    "    \"HIGHDEG\",  # filter out 0, 1\n",
    "    \"CONTROL\",\n",
    "    \"REGION\",  # possibly instead of state\n",
    "    \"LOCALE\",  # could backfill\n",
    "   # \"LOCALE2\",  # was blank in 2017-18\n",
    "    \"CCBASIC\",  # could backfill\n",
    "    \"CCUGPROF\",  # could backfill\n",
    "    \"CCSIZSET\",  # could backfill\n",
    "    \"HBCU\",\n",
    "    \"MENONLY\",\n",
    "    \"WOMENONLY\",\n",
    "    \"RELAFFIL\",  # could bin this\n",
    "    \"ADM_RATE\",\n",
    "    \"SATVR25\",\n",
    "    \"SATVR75\",\n",
    "    \"SATMT25\",\n",
    "    \"SATMT75\",\n",
    "    \"SATWR25\",\n",
    "    \"SATWR75\",\n",
    "    \"SATVRMID\",\n",
    "    \"SATMTMID\",\n",
    "    \"SATWRMID\",\n",
    "    \"ACTCM25\",\n",
    "    \"ACTCM75\",\n",
    "    \"ACTEN25\",\n",
    "    \"ACTEN75\",\n",
    "    \"ACTMT25\",\n",
    "    \"ACTMT75\",\n",
    "    \"ACTWR25\",\n",
    "    \"ACTWR75\",\n",
    "    \"ACTCMMID\",\n",
    "    \"ACTENMID\",\n",
    "    \"ACTMTMID\",\n",
    "    \"ACTWRMID\",\n",
    "    \"PCIP01\",\n",
    "    \"PCIP03\",\n",
    "    \"PCIP04\",\n",
    "    \"PCIP05\",\n",
    "    \"PCIP09\",\n",
    "    \"PCIP10\",\n",
    "    \"PCIP11\",\n",
    "    \"PCIP12\",\n",
    "    \"PCIP13\",\n",
    "    \"PCIP14\",\n",
    "    \"PCIP15\",\n",
    "    \"PCIP16\",\n",
    "    \"PCIP19\",\n",
    "    \"PCIP22\",\n",
    "    \"PCIP23\",\n",
    "    \"PCIP24\",\n",
    "    \"PCIP25\",\n",
    "    \"PCIP26\",\n",
    "    \"PCIP27\",\n",
    "    \"PCIP29\",\n",
    "    \"PCIP30\",\n",
    "    \"PCIP31\",\n",
    "    \"PCIP38\",\n",
    "    \"PCIP39\",\n",
    "    \"PCIP40\",\n",
    "    \"PCIP41\",\n",
    "    \"PCIP42\",\n",
    "    \"PCIP43\",\n",
    "    \"PCIP44\",\n",
    "    \"PCIP45\",\n",
    "    \"PCIP46\",\n",
    "    \"PCIP47\",\n",
    "    \"PCIP48\",\n",
    "    \"PCIP49\",\n",
    "    \"PCIP50\",\n",
    "    \"PCIP51\",\n",
    "    \"PCIP52\",\n",
    "    \"PCIP54\",\n",
    "    \"DISTANCEONLY\",\n",
    "    \"UGDS\",\n",
    "    \"PPTUG_EF\",\n",
    "    \"CURROPER\",  # filter\n",
    "    \"COSTT4_A\",  # collapse with below\n",
    "    \"COSTT4_P\",  # collapse with above\n",
    "    \"NUM4_PUB\",  # collapse with below; use as filter\n",
    "    \"NUM4_PRIV\",  # collapse with above; use as filter\n",
    "    \"COSTT4_A\",  # collapse with below\n",
    "    \"COSTT4_P\",  # collapse with above\n",
    "    \"TUITIONFEE_IN\",  # use as flag for \"in-state is different\"?\n",
    "    \"TUITIONFEE_OUT\",  # see above\n",
    "    \"TUITIONFEE_PROG\",  # see above\n",
    "    \"INEXPFTE\",\n",
    "    \"AVGFACSAL\",\n",
    "    \"PFTFAC\",\n",
    "    \"PCTPELL\",\n",
    "    \"C150_4\",\n",
    "    \"PCTFLOAN\",\n",
    "    \"UG25ABV\",\n",
    "    \"COMPL_RPY_1YR_RT\",\n",
    "    \"COMPL_RPY_3YR_RT\",\n",
    "    \"COMPL_RPY_5YR_RT\",\n",
    "    \"COMPL_RPY_7YR_RT\",\n",
    "    \"GRAD_DEBT_MDN\",  # potential part of target\n",
    "    \"COUNT_NWNE_P6\",  # potentially filter? /analysis\n",
    "    \"COUNT_WNE_P6\",  # see above\n",
    "    \"MN_EARN_WNE_P6\",  # target?\n",
    "    \"MD_EARN_WNE_P6\",  # target 2?\n",
    "    \"ICLEVEL\",  # potentially redundant\n",
    "    \"PRGMOFR\",\n",
    "]"
   ]
  },
  {
   "cell_type": "code",
   "execution_count": 7,
   "metadata": {},
   "outputs": [
    {
     "name": "stdout",
     "output_type": "stream",
     "text": [
      "110 candidate columns\n"
     ]
    }
   ],
   "source": [
    "print(f'{len(cols)} candidate columns')"
   ]
  },
  {
   "cell_type": "markdown",
   "metadata": {},
   "source": [
    "## Make a version of our data dictionary just for the columns we're using"
   ]
  },
  {
   "cell_type": "code",
   "execution_count": 8,
   "metadata": {},
   "outputs": [
    {
     "data": {
      "text/html": [
       "<div>\n",
       "<style scoped>\n",
       "    .dataframe tbody tr th:only-of-type {\n",
       "        vertical-align: middle;\n",
       "    }\n",
       "\n",
       "    .dataframe tbody tr th {\n",
       "        vertical-align: top;\n",
       "    }\n",
       "\n",
       "    .dataframe thead th {\n",
       "        text-align: right;\n",
       "    }\n",
       "</style>\n",
       "<table border=\"1\" class=\"dataframe\">\n",
       "  <thead>\n",
       "    <tr style=\"text-align: right;\">\n",
       "      <th></th>\n",
       "      <th>category</th>\n",
       "      <th>type</th>\n",
       "      <th>friendly_name</th>\n",
       "      <th>explanation</th>\n",
       "    </tr>\n",
       "    <tr>\n",
       "      <th>variable</th>\n",
       "      <th></th>\n",
       "      <th></th>\n",
       "      <th></th>\n",
       "      <th></th>\n",
       "    </tr>\n",
       "  </thead>\n",
       "  <tbody>\n",
       "    <tr>\n",
       "      <td>UNITID</td>\n",
       "      <td>root</td>\n",
       "      <td>integer</td>\n",
       "      <td>id</td>\n",
       "      <td>Unit ID for institution</td>\n",
       "    </tr>\n",
       "    <tr>\n",
       "      <td>INSTNM</td>\n",
       "      <td>school</td>\n",
       "      <td>autocomplete</td>\n",
       "      <td>name</td>\n",
       "      <td>Institution name</td>\n",
       "    </tr>\n",
       "    <tr>\n",
       "      <td>STABBR</td>\n",
       "      <td>school</td>\n",
       "      <td>string</td>\n",
       "      <td>state</td>\n",
       "      <td>State postcode</td>\n",
       "    </tr>\n",
       "    <tr>\n",
       "      <td>ACCREDAGENCY</td>\n",
       "      <td>school</td>\n",
       "      <td>string</td>\n",
       "      <td>accreditor</td>\n",
       "      <td>Accreditor for institution</td>\n",
       "    </tr>\n",
       "    <tr>\n",
       "      <td>HCM2</td>\n",
       "      <td>school</td>\n",
       "      <td>integer</td>\n",
       "      <td>under_investigation</td>\n",
       "      <td>Schools that are on Heightened Cash Monitoring...</td>\n",
       "    </tr>\n",
       "  </tbody>\n",
       "</table>\n",
       "</div>"
      ],
      "text/plain": [
       "             category          type        friendly_name  \\\n",
       "variable                                                   \n",
       "UNITID           root       integer                   id   \n",
       "INSTNM         school  autocomplete                 name   \n",
       "STABBR         school        string                state   \n",
       "ACCREDAGENCY   school        string           accreditor   \n",
       "HCM2           school       integer  under_investigation   \n",
       "\n",
       "                                                    explanation  \n",
       "variable                                                         \n",
       "UNITID                                  Unit ID for institution  \n",
       "INSTNM                                         Institution name  \n",
       "STABBR                                           State postcode  \n",
       "ACCREDAGENCY                         Accreditor for institution  \n",
       "HCM2          Schools that are on Heightened Cash Monitoring...  "
      ]
     },
     "execution_count": 8,
     "metadata": {},
     "output_type": "execute_result"
    }
   ],
   "source": [
    "df_cols = pd.DataFrame(cols)\n",
    "df_cols.columns = [\"variable\"]\n",
    "df_cols[\"category\"] = df_cols.variable.apply(lambda x: data_dict.loc[x, \"dev_category\"])\n",
    "df_cols[\"type\"] = df_cols.variable.apply(lambda x: data_dict.loc[x, \"api_data_type\"])\n",
    "df_cols[\"friendly_name\"] = df_cols.variable.apply(\n",
    "    lambda x: data_dict.loc[x, \"developer_friendly_name\"]\n",
    ")\n",
    "df_cols[\"explanation\"] = df_cols.variable.apply(\n",
    "    lambda x: data_dict.loc[x, \"name_of_data_element\"]\n",
    ")\n",
    "df_cols.set_index(\"variable\", inplace=True)\n",
    "df_cols.head()"
   ]
  },
  {
   "cell_type": "markdown",
   "metadata": {},
   "source": [
    "## Ingest Data"
   ]
  },
  {
   "cell_type": "code",
   "execution_count": 9,
   "metadata": {},
   "outputs": [],
   "source": [
    "df = pd.read_csv(\n",
    "    \"data/MERGED2017_18_PP.csv\", usecols=cols, na_values=[\"NU\", \"PrivacySuppressed\"]\n",
    ")"
   ]
  },
  {
   "cell_type": "code",
   "execution_count": 35,
   "metadata": {},
   "outputs": [
    {
     "data": {
      "text/plain": [
       "-2.0     2343\n",
       " 18.0     349\n",
       " 22.0     331\n",
       " 24.0     301\n",
       " 10.0     265\n",
       " 26.0     264\n",
       " 21.0     240\n",
       " 19.0     196\n",
       " 23.0     157\n",
       " 17.0     152\n",
       " 20.0     139\n",
       " 7.0      139\n",
       " 16.0     135\n",
       " 15.0     131\n",
       " 4.0      123\n",
       " 1.0      122\n",
       " 30.0     121\n",
       " 14.0     121\n",
       " 2.0      118\n",
       " 6.0      111\n",
       " 5.0      106\n",
       " 9.0      102\n",
       " 8.0       97\n",
       " 3.0       82\n",
       " 29.0      77\n",
       " 11.0      68\n",
       " 13.0      66\n",
       " 25.0      56\n",
       " 32.0      35\n",
       " 31.0      35\n",
       " 33.0      34\n",
       " 12.0      31\n",
       " 28.0      14\n",
       " 27.0       7\n",
       "Name: CCBASIC, dtype: int64"
      ]
     },
     "execution_count": 35,
     "metadata": {},
     "output_type": "execute_result"
    }
   ],
   "source": [
    "df.CCBASIC.value_counts()"
   ]
  },
  {
   "cell_type": "markdown",
   "metadata": {},
   "source": [
    "Drop null columns"
   ]
  },
  {
   "cell_type": "code",
   "execution_count": null,
   "metadata": {},
   "outputs": [],
   "source": [
    "old_cols = df.columns\n",
    "new_cols = df.dropna(axis=\"columns\", how=\"all\").columns\n",
    "df = df[new_cols].set_index(\"UNITID\")\n",
    "df_cols = df_cols.loc[df.columns]\n",
    "label_dict_old = label_dict\n",
    "label_dict = {\n",
    "    key: label_dict_old[key]\n",
    "    for key in (set(df.columns).intersection(set(label_dict_old.keys())))\n",
    "}\n",
    "print(f\"{len(list(set(old_cols) - set(new_cols)))} columns dropped\")"
   ]
  },
  {
   "cell_type": "code",
   "execution_count": null,
   "metadata": {},
   "outputs": [],
   "source": [
    "label_dict"
   ]
  },
  {
   "cell_type": "code",
   "execution_count": null,
   "metadata": {},
   "outputs": [],
   "source": [
    "top_earners = df.sort_values(\"MN_EARN_WNE_P6\", ascending=False)[\n",
    "    [\"INSTNM\", \"MN_EARN_WNE_P6\"]\n",
    "].dropna()\n",
    "top_earners"
   ]
  },
  {
   "cell_type": "code",
   "execution_count": null,
   "metadata": {},
   "outputs": [],
   "source": [
    "i = 0\n",
    "df_cols[i * 10 : i * 10 + 10]"
   ]
  },
  {
   "cell_type": "code",
   "execution_count": null,
   "metadata": {},
   "outputs": [],
   "source": [
    "cols_drop_pre = ['INSTNM']\n",
    "cols_drop_post = ['CCUGPROF']"
   ]
  },
  {
   "cell_type": "code",
   "execution_count": null,
   "metadata": {},
   "outputs": [],
   "source": [
    "# drop columns deemed unneeded\n",
    "X = df.drop(cols_drop_pre, axis=1)\n",
    "# must have at least 50 undergrads\n",
    "X = X.query(\"UGDS >= 50\")"
   ]
  },
  {
   "cell_type": "code",
   "execution_count": null,
   "metadata": {},
   "outputs": [],
   "source": [
    "X"
   ]
  },
  {
   "cell_type": "code",
   "execution_count": null,
   "metadata": {},
   "outputs": [],
   "source": [
    "regions = [v.split('(')[0].rstrip() for v in label_dict['REGION'].values()]"
   ]
  },
  {
   "cell_type": "code",
   "execution_count": null,
   "metadata": {},
   "outputs": [],
   "source": [
    "label_dict['REGION']"
   ]
  },
  {
   "cell_type": "code",
   "execution_count": null,
   "metadata": {},
   "outputs": [],
   "source": [
    "X[\"REGION\"] = X.REGION.apply(lambda x: label_dict[\"REGION\"][x].split(\"(\")[0])"
   ]
  },
  {
   "cell_type": "code",
   "execution_count": null,
   "metadata": {},
   "outputs": [],
   "source": [
    "X[\"CONTROL\"] = X.CONTROL.apply(lambda x: label_dict[\"CONTROL\"][x])"
   ]
  },
  {
   "cell_type": "code",
   "execution_count": null,
   "metadata": {},
   "outputs": [],
   "source": [
    "X[\"MAIN\"] = X.MAIN.apply(lambda x: label_dict[\"MAIN\"][x])"
   ]
  },
  {
   "cell_type": "code",
   "execution_count": null,
   "metadata": {},
   "outputs": [],
   "source": [
    "X[\"HIGHDEG\"] = X.HIGHDEG.apply(lambda x: label_dict[\"HIGHDEG\"][x].split(\" \")[0])"
   ]
  },
  {
   "cell_type": "code",
   "execution_count": null,
   "metadata": {},
   "outputs": [],
   "source": [
    "X[\"PREDDEG\"] = X.PREDDEG.apply(\n",
    "    lambda x: [\"not_classified\", \"certificate\", \"associate\", \"bachelor\", \"grad\"][x]\n",
    ")"
   ]
  },
  {
   "cell_type": "code",
   "execution_count": null,
   "metadata": {},
   "outputs": [],
   "source": [
    "X = pd.get_dummies(\n",
    "    X,\n",
    "    dummy_na=True,\n",
    "    columns=[*categorical_keys, \"STABBR\"],\n",
    "    drop_first=True,\n",
    ")"
   ]
  },
  {
   "cell_type": "code",
   "execution_count": null,
   "metadata": {},
   "outputs": [],
   "source": [
    "X"
   ]
  },
  {
   "cell_type": "code",
   "execution_count": null,
   "metadata": {},
   "outputs": [],
   "source": [
    "list(X.columns)"
   ]
  },
  {
   "cell_type": "code",
   "execution_count": null,
   "metadata": {},
   "outputs": [],
   "source": [
    "df.HIGHDEG.value_counts()"
   ]
  },
  {
   "cell_type": "code",
   "execution_count": null,
   "metadata": {},
   "outputs": [],
   "source": [
    "df.REGION.value_counts()"
   ]
  },
  {
   "cell_type": "code",
   "execution_count": null,
   "metadata": {},
   "outputs": [],
   "source": [
    "df.LOCALE"
   ]
  },
  {
   "cell_type": "code",
   "execution_count": null,
   "metadata": {},
   "outputs": [],
   "source": [
    "df = pd.read_csv(\"MERGED2007_08_PP.csv\", na_values=[\"NU\",\"PrivacySuppressed\"])"
   ]
  },
  {
   "cell_type": "code",
   "execution_count": null,
   "metadata": {},
   "outputs": [],
   "source": []
  },
  {
   "cell_type": "code",
   "execution_count": null,
   "metadata": {},
   "outputs": [],
   "source": []
  }
 ],
 "metadata": {
  "kernelspec": {
   "display_name": "Python 3",
   "language": "python",
   "name": "python3"
  },
  "language_info": {
   "codemirror_mode": {
    "name": "ipython",
    "version": 3
   },
   "file_extension": ".py",
   "mimetype": "text/x-python",
   "name": "python",
   "nbconvert_exporter": "python",
   "pygments_lexer": "ipython3",
   "version": "3.7.3"
  }
 },
 "nbformat": 4,
 "nbformat_minor": 4
}
