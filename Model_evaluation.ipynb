{
 "cells": [
  {
   "cell_type": "markdown",
   "metadata": {},
   "source": [
    "## Model Evaluation for college scorecard - earnings prediction\n",
    "\n",
    "This notebook will use several different supervised learning regression algorithms to model earnings after college using College Scorecard data. The models included for evaluation will be:\n",
    "\n",
    "1. Linear Regression\n",
    "1. Decision Tree\n",
    "1. Random Forest"
   ]
  },
  {
   "cell_type": "code",
   "execution_count": 3,
   "metadata": {},
   "outputs": [],
   "source": [
    "import numpy as np\n",
    "import pandas as pd\n",
    "import matplotlib.pyplot as plt\n",
    "\n",
    "seed = 12345\n",
    "# load the data\n",
    "\n",
    "data = pd.read_pickle(\"clean_notna_data.pickle\")\n",
    "X = data[\"X\"]\n",
    "y = data[\"y\"]\n",
    "X_with_name = X.copy()\n",
    "name = X[\"INSTNM\"]\n",
    "\n",
    "X.drop(\"INSTNM\", axis=1, inplace=True)\n",
    "data = X.copy()\n",
    "data[\"Y\"] = y\n",
    "\n",
    "X.head()\n",
    "\n",
    "unlabeled_data = pd.read_pickle(\"clean_notna_data_unlabeled.pickle\")\n",
    "unlabeled_data.drop(\"INSTNM\", axis=1, inplace=True)"
   ]
  },
  {
   "cell_type": "code",
   "execution_count": 4,
   "metadata": {},
   "outputs": [],
   "source": [
    "class NaivePredictor:\n",
    "    def __init__(self, use_coef=False):\n",
    "        self.use_coef = use_coef\n",
    "\n",
    "    def fit(self, X, y):\n",
    "        self.X = X\n",
    "        self.y = y\n",
    "        self.lookup = pd.concat([X[[\"INSTNM\", \"YEAR\"]], y], axis=1)\n",
    "\n",
    "    def _predict(self, instnm, year):\n",
    "        query_str = f'INSTNM == \"{instnm}\" and YEAR == \"{year - 2}\"'\n",
    "        try:\n",
    "            last = self.lookup.query(query_str)[\"MD_EARN_AVG\"].values[0]\n",
    "        except IndexError:\n",
    "            return np.nan\n",
    "        coef = 1\n",
    "        if self.use_coef:\n",
    "            query_str_back = f'INSTNM == \"{instnm}\" and YEAR == \"{year - 4}\"'\n",
    "            try:\n",
    "                last_back = self.lookup.query(query_str_back)[\"MD_EARN_AVG\"].values[0]\n",
    "                coef = last / last_back\n",
    "            except:\n",
    "                return np.nan\n",
    "        return coef * last\n",
    "\n",
    "    def predict(self, X):\n",
    "        result = X.apply(lambda x: self._predict(x[\"INSTNM\"], x[\"YEAR\"]), axis=1)\n",
    "        return result"
   ]
  },
  {
   "cell_type": "markdown",
   "metadata": {},
   "source": [
    "### Data preprocessing\n",
    "We need to split the data into training and test sets. Also, we need to think about possibly centering/normalizing the data.\n",
    "\n",
    "Normalizing may make sense at least for linear regression, so we can understand the features a little bit better\n",
    "\n",
    "Also, we can think about using PCA (if only for visualization purposes)"
   ]
  },
  {
   "cell_type": "code",
   "execution_count": 5,
   "metadata": {},
   "outputs": [],
   "source": [
    "# Split the data into training and test\n",
    "\n",
    "train_test_index = {0:'',1:'',2:'',3:'',4:'',5:''}\n",
    "for i in range(0,6):\n",
    "    train_test_index[i] = {\n",
    "        'train': X[X['YEAR'] <= i+2002].index,\n",
    "        'test' : X[X['YEAR'] == i + 2003].index\n",
    "    }\n",
    "#X.drop('YEAR', axis = 1, inplace = True)"
   ]
  },
  {
   "cell_type": "code",
   "execution_count": 6,
   "metadata": {},
   "outputs": [],
   "source": [
    "from sklearn.model_selection import train_test_split\n",
    "\n",
    "X_train, X_test, y_train, y_test = train_test_split(X, y, test_size=0.2, random_state=1)"
   ]
  },
  {
   "cell_type": "markdown",
   "metadata": {},
   "source": [
    "## Naive Model"
   ]
  },
  {
   "cell_type": "code",
   "execution_count": 7,
   "metadata": {},
   "outputs": [
    {
     "name": "stdout",
     "output_type": "stream",
     "text": [
      "R^2:  0.9313703564291421\n",
      "MSE1:  5555408.033887464\n",
      "RMSE of validation set:  2356.991309675847\n",
      "MAE of validation set:  1630.009093593812\n",
      "original shape: (11201,)\n",
      "final shape: (8017,)\n"
     ]
    }
   ],
   "source": [
    "from sklearn.metrics import mean_squared_error as m_s_e\n",
    "from sklearn.metrics import mean_absolute_error as m_a_e\n",
    "from sklearn.metrics import r2_score\n",
    "\n",
    "np_a = NaivePredictor()\n",
    "np_a.fit(X_with_name, y)\n",
    "y_hat_a = np_a.predict(X_with_name)\n",
    "y_hat_a = y_hat_a[~np.isnan(y_hat_a)]\n",
    "y_true = y[y_hat_a.index]\n",
    "r2 = r2_score(y_true, y_hat_a)\n",
    "mse = m_s_e(y_true, y_hat_a)\n",
    "mae = m_a_e(y_true, y_hat_a)\n",
    "print(\"R^2: \", r2)\n",
    "print(\"MSE1: \", mse)\n",
    "print(\"RMSE of validation set: \", np.sqrt(mse))\n",
    "print(\"MAE of validation set: \", mae)\n",
    "print(\"original shape:\", y.shape)\n",
    "print(\"final shape:\", y_true.shape)"
   ]
  },
  {
   "cell_type": "code",
   "execution_count": 8,
   "metadata": {},
   "outputs": [
    {
     "name": "stdout",
     "output_type": "stream",
     "text": [
      "R^2:  0.8838256459832684\n",
      "MSE1:  9586271.025482714\n",
      "RMSE of validation set:  3096.1703805641437\n",
      "MAE of validation set:  2273.533469374398\n",
      "original shape: (11201,)\n",
      "final shape: (4813,)\n"
     ]
    }
   ],
   "source": [
    "np_b = NaivePredictor(use_coef=True)\n",
    "np_b.fit(X_with_name, y)\n",
    "y_hat_b = np_b.predict(X_with_name)\n",
    "y_hat_b = y_hat_b[~np.isnan(y_hat_b)]\n",
    "y_true = y[y_hat_b.index]\n",
    "r2 = r2_score(y_true, y_hat_b)\n",
    "mse = m_s_e(y_true, y_hat_b)\n",
    "mae = m_a_e(y_true, y_hat_b)\n",
    "print(\"R^2: \", r2)\n",
    "print(\"MSE1: \", mse)\n",
    "print(\"RMSE of validation set: \", np.sqrt(mse))\n",
    "print(\"MAE of validation set: \", mae)\n",
    "print(\"original shape:\", y.shape)\n",
    "print(\"final shape:\", y_true.shape)"
   ]
  },
  {
   "cell_type": "code",
   "execution_count": 9,
   "metadata": {},
   "outputs": [
    {
     "data": {
      "text/plain": [
       "(1567, 201)"
      ]
     },
     "execution_count": 9,
     "metadata": {},
     "output_type": "execute_result"
    }
   ],
   "source": [
    "X_with_name[X_with_name['YEAR'] == 2003].shape"
   ]
  },
  {
   "cell_type": "code",
   "execution_count": 10,
   "metadata": {},
   "outputs": [
    {
     "data": {
      "image/png": "[encoded data removed]",
      "text/plain": [
       "<Figure size 360x288 with 1 Axes>"
      ]
     },
     "metadata": {
      "image/png": {
       "height": 303,
       "width": 357
      },
      "needs_background": "light"
     },
     "output_type": "display_data"
    }
   ],
   "source": [
    "import matplotlib.pyplot as plt\n",
    "\n",
    "%matplotlib inline\n",
    "%config InlineBackend.figure_format = 'retina'\n",
    "fig, ax = plt.subplots(figsize=(5, 4))\n",
    "diffs = y_hat_a - y_true\n",
    "diffs.plot.kde(ax=ax)\n",
    "ax.set_xlim(-25000,25000)\n",
    "plt.xticks([-20000,-13333,-6667,0,6667,13333,20000]);\n",
    "ax.set_ylabel('Estimated Density')\n",
    "ax.set_xlabel('Difference in Median Income')\n",
    "ax.set_title('Difference in Median Income Year N vs N-2')\n",
    "for tick in ax.get_xticklabels():\n",
    "    tick.set_rotation(45)\n",
    "plt.savefig(\"figs/diffs.png\",dpi=300,bbox_inches = 'tight')"
   ]
  },
  {
   "cell_type": "code",
   "execution_count": 11,
   "metadata": {},
   "outputs": [
    {
     "data": {
      "text/plain": [
       "(8017,)"
      ]
     },
     "execution_count": 11,
     "metadata": {},
     "output_type": "execute_result"
    }
   ],
   "source": [
    "diffs.shape"
   ]
  },
  {
   "cell_type": "code",
   "execution_count": 12,
   "metadata": {},
   "outputs": [
    {
     "data": {
      "text/plain": [
       "(4683,)"
      ]
     },
     "execution_count": 12,
     "metadata": {},
     "output_type": "execute_result"
    }
   ],
   "source": [
    "diffs[abs(diffs) < 5000].shape"
   ]
  },
  {
   "cell_type": "markdown",
   "metadata": {},
   "source": [
    "### Linear Regression\n",
    "First try: no feature scaling"
   ]
  },
  {
   "cell_type": "code",
   "execution_count": 14,
   "metadata": {},
   "outputs": [
    {
     "name": "stdout",
     "output_type": "stream",
     "text": [
      "R^2 of training set:  0.8443275776215952\n",
      "MSE of training set:  13233461.184335917\n",
      "RMSE of training set:  3637.782454234436\n",
      "MAE of training set:  2582.407404887728\n",
      "\n",
      "R^2 of validation set:  0.8235120459549399\n",
      "MSE of validation set:  14431083.81119437\n",
      "RMSE of validation set:  3798.826636106782\n",
      "MAE of validation set:  2807.925924057543\n",
      "\n",
      "Coefficients:\n",
      "PCIP14 :  126617.01324113214\n",
      "PCIP54 :  121416.51400992817\n",
      "PCIP29 :  117148.6009027461\n",
      "PCIP10 :  107686.33649918296\n",
      "PCIP46 :  107424.44710733881\n",
      "PCIP47 :  106262.06654776866\n",
      "PCIP15 :  105649.15205415011\n",
      "PCIP48 :  103720.12985702284\n",
      "PCIP51 :  102840.36480345721\n",
      "PCIP52 :  102268.3882311622\n",
      "PCIP40 :  101648.14149801088\n",
      "PCIP11 :  100591.49340248905\n",
      "PCIP27 :  100455.53642400615\n",
      "PCIP41 :  99997.09718027299\n",
      "PCIP31 :  99093.96477840662\n",
      "PCIP24 :  98503.43104234674\n",
      "PCIP49 :  98141.41346993916\n",
      "PCIP22 :  97909.14670535004\n",
      "PCIP43 :  97172.0996083839\n",
      "PCIP13 :  96529.03657923\n"
     ]
    }
   ],
   "source": [
    "from sklearn.linear_model import LinearRegression\n",
    "\n",
    "r2_array = {'train': list(), 'val': list()}\n",
    "mse_array = {'train': list(), 'val': list()}\n",
    "mae_array = {'train': list(), 'val': list()}\n",
    "\n",
    "linreg_coeffs = np.zeros_like(X.columns)\n",
    "for i in range(0,6):\n",
    "    X_train = X.loc[train_test_index[i]['train']]\n",
    "    y_train = y.iloc[train_test_index[i]['train']]\n",
    "    X_test = X.loc[train_test_index[i]['test']]\n",
    "    y_test = y.iloc[train_test_index[i]['test']]\n",
    "    lin_reg = LinearRegression()\n",
    "    lin_reg.fit(X_train, y_train)\n",
    "    r2_array['train'].append(lin_reg.score(X_train, y_train))\n",
    "    mse_array['train'].append(m_s_e(y_train, lin_reg.predict(X_train)))\n",
    "    mae_array['train'].append(m_a_e(y_train, lin_reg.predict(X_train)))\n",
    "    \n",
    "    r2_array['val'].append(lin_reg.score(X_test, y_test))\n",
    "    mse_array['val'].append(m_s_e(y_test, lin_reg.predict(X_test)))\n",
    "    mae_array['val'].append(m_a_e(y_test, lin_reg.predict(X_test)))\n",
    "    \n",
    "    linreg_coeffs += lin_reg.coef_\n",
    "    \n",
    "linreg_coeffs /= 6\n",
    "print('R^2 of training set: ',np.mean(r2_array['train']))\n",
    "print('MSE of training set: ',np.mean(mse_array['train']))\n",
    "print('RMSE of training set: ', np.sqrt(np.mean(mse_array['train'])))\n",
    "print('MAE of training set: ',np.mean(mae_array['train']))\n",
    "print()\n",
    "print('R^2 of validation set: ',np.mean(r2_array['val']))\n",
    "print('MSE of validation set: ',np.mean(mse_array['val']))\n",
    "print('RMSE of validation set: ', np.sqrt(np.mean(mse_array['val'])))\n",
    "print('MAE of validation set: ',np.mean(mae_array['val']))\n",
    "print()\n",
    "print('Coefficients:')\n",
    "sorted_inds = np.argsort((-np.abs(linreg_coeffs)))[:20]\n",
    "for i in sorted_inds:\n",
    "    print(X.columns[i], ': ', linreg_coeffs[i])"
   ]
  },
  {
   "cell_type": "markdown",
   "metadata": {},
   "source": [
    "Second try: feature scaling"
   ]
  },
  {
   "cell_type": "code",
   "execution_count": 15,
   "metadata": {},
   "outputs": [
    {
     "name": "stdout",
     "output_type": "stream",
     "text": [
      "R^2 of training set:  0.8432987120482511\n",
      "MSE of training set:  13235313.349655945\n",
      "RMSE of training set:  3638.0370187308354\n",
      "MAE of training set:  2588.41035012447\n",
      "\n",
      "R^2 of validation set:  0.8209231597997428\n",
      "MSE of validation set:  14454277.607111042\n",
      "RMSE of validation set:  3801.878168367714\n",
      "MAE of validation set:  2846.6167947218332\n",
      "\n",
      "Coefficients:\n",
      "PCIP14 :  115177.68372245866\n",
      "PCIP54 :  108616.07352057195\n",
      "PCIP29 :  106037.95539438461\n",
      "PCIP46 :  95382.88980459918\n",
      "PCIP10 :  94559.35205267534\n",
      "PCIP15 :  94266.18343508552\n",
      "PCIP47 :  94240.64508257601\n",
      "PCIP48 :  92714.48857764996\n",
      "PCIP51 :  91292.92777904097\n",
      "PCIP52 :  90635.13123661776\n",
      "PCIP41 :  90062.78368798214\n",
      "PCIP40 :  89980.38429889039\n",
      "PCIP11 :  89014.87540629436\n",
      "PCIP27 :  88385.34734017422\n",
      "PCIP31 :  87582.69807734559\n",
      "PCIP24 :  86805.24690380851\n",
      "PCIP49 :  86652.75275704866\n",
      "PCIP22 :  86427.4651687786\n",
      "PCIP43 :  85294.67524454338\n",
      "PCIP13 :  85103.1343263714\n"
     ]
    }
   ],
   "source": [
    "from sklearn.preprocessing import RobustScaler\n",
    "\n",
    "\n",
    "r2_array = {'train': list(), 'val': list()}\n",
    "mse_array = {'train': list(), 'val': list()}\n",
    "mae_array = {'train': list(), 'val': list()}\n",
    "\n",
    "linreg_coeffs = np.zeros_like(X.columns)\n",
    "for i in range(1,6):\n",
    "    scaler = RobustScaler()\n",
    "\n",
    "    X_train = X.loc[train_test_index[i]['train']]\n",
    "    X_train_scaled = scaler.fit_transform(X_train)\n",
    "    y_train = y.iloc[train_test_index[i]['train']]\n",
    "    X_test = X.loc[train_test_index[i]['test']]\n",
    "    X_test_scaled = scaler.transform(X_test)\n",
    "    y_test = y.iloc[train_test_index[i]['test']]\n",
    "    \n",
    "    lin_reg = LinearRegression()\n",
    "    lin_reg.fit(X_train_scaled, y_train)\n",
    "    \n",
    "    r2_array['train'].append(lin_reg.score(X_train_scaled, y_train))\n",
    "    mse_array['train'].append(m_s_e(y_train, lin_reg.predict(X_train_scaled)))\n",
    "    mae_array['train'].append(m_a_e(y_train, lin_reg.predict(X_train_scaled)))\n",
    "    \n",
    "    r2_array['val'].append(lin_reg.score(X_test_scaled, y_test))\n",
    "    mse_array['val'].append(m_s_e(y_test, lin_reg.predict(X_test_scaled)))\n",
    "    mae_array['val'].append(m_a_e(y_test, lin_reg.predict(X_test_scaled)))\n",
    "    linreg_coeffs += (lin_reg.coef_ / scaler.scale_)\n",
    "    \n",
    "linreg_coeffs /= 5\n",
    "print('R^2 of training set: ',np.mean(r2_array['train']))\n",
    "print('MSE of training set: ',np.mean(mse_array['train']))\n",
    "print('RMSE of training set: ', np.sqrt(np.mean(mse_array['train'])))\n",
    "print('MAE of training set: ',np.mean(mae_array['train']))\n",
    "print()\n",
    "print('R^2 of validation set: ',np.mean(r2_array['val']))\n",
    "print('MSE of validation set: ',np.mean(mse_array['val']))\n",
    "print('RMSE of validation set: ', np.sqrt(np.mean(mse_array['val'])))\n",
    "print('MAE of validation set: ',np.mean(mae_array['val']))\n",
    "print()\n",
    "print('Coefficients:')\n",
    "sorted_inds = np.argsort((-np.abs(linreg_coeffs)))[:20]\n",
    "for i in sorted_inds:\n",
    "    print(X.columns[i], ': ', linreg_coeffs[i])"
   ]
  },
  {
   "cell_type": "markdown",
   "metadata": {},
   "source": [
    "### Random forest\n"
   ]
  },
  {
   "cell_type": "code",
   "execution_count": 16,
   "metadata": {},
   "outputs": [
    {
     "name": "stdout",
     "output_type": "stream",
     "text": [
      "0.3\n",
      "0.4\n",
      "0.5\n",
      "0.66\n",
      "0.75\n",
      "0.9\n",
      "0.99\n",
      "1\n"
     ]
    }
   ],
   "source": [
    "from sklearn.ensemble import RandomForestRegressor\n",
    "\n",
    "n_estimators = 120\n",
    "max_features = [0.3,0.4,0.5,0.66,0.75,0.9,0.99, 1]\n",
    "\n",
    "# initialize accuracy dict which will have accuracy values for each run of the parameter tuning\n",
    "accuracy_dict = dict()\n",
    "for max_f in max_features:\n",
    "    accuracy_dict[max_f] = {'r2':\n",
    "                                {'train':\n",
    "                                    {'list':list(),\n",
    "                                     'mean': 0},\n",
    "                                'test':\n",
    "                                    {'list':list(),\n",
    "                                     'mean': 0},\n",
    "                                'oob':\n",
    "                                    {'list':list(),\n",
    "                                     'mean': 0}},\n",
    "                            'mse':\n",
    "                                {'train':\n",
    "                                    {'list':list(),\n",
    "                                     'mean': 0},\n",
    "                                'test':\n",
    "                                    {'list':list(),\n",
    "                                     'mean': 0},\n",
    "                                'oob':\n",
    "                                    {'list':list(),\n",
    "                                     'mean': 0}},\n",
    "                            'mae':\n",
    "                                {'train':\n",
    "                                    {'list':list(),\n",
    "                                     'mean': 0},\n",
    "                                'test':\n",
    "                                    {'list':list(),\n",
    "                                     'mean': 0},\n",
    "                                'oob':\n",
    "                                    {'list':list(),\n",
    "                                     'mean': 0}}}\n",
    "\n",
    "for max_f in max_features:\n",
    "    for i in range(0,6):\n",
    "        X_train = X.loc[train_test_index[i]['train']]\n",
    "        y_train = y.iloc[train_test_index[i]['train']]\n",
    "        X_test = X.loc[train_test_index[i]['test']]\n",
    "        y_test = y.iloc[train_test_index[i]['test']]\n",
    "        rand_forest = RandomForestRegressor(n_estimators = n_estimators, max_features = max_f,\n",
    "                                        criterion = 'mse', oob_score = True, random_state = seed)\n",
    "        rand_forest.fit(X_train, y_train)\n",
    "\n",
    "        accuracy_dict[max_f]['r2']['oob']['list'].append(rand_forest.oob_score_)\n",
    "        accuracy_dict[max_f]['mse']['oob']['list'].append(m_s_e(y_train, rand_forest.oob_prediction_))\n",
    "        accuracy_dict[max_f]['mae']['oob']['list'].append(m_a_e(y_train, rand_forest.oob_prediction_))\n",
    "        \n",
    "        accuracy_dict[max_f]['r2']['train']['list'].append(rand_forest.score(X_train, y_train))\n",
    "        accuracy_dict[max_f]['mse']['train']['list'].append(m_s_e(y_train, rand_forest.predict(X_train)))\n",
    "        accuracy_dict[max_f]['mae']['train']['list'].append(m_a_e(y_train, rand_forest.predict(X_train)))\n",
    "        \n",
    "        accuracy_dict[max_f]['r2']['test']['list'].append(rand_forest.score(X_test, y_test))\n",
    "        accuracy_dict[max_f]['mse']['test']['list'].append(m_s_e(y_test, rand_forest.predict(X_test)))\n",
    "        accuracy_dict[max_f]['mae']['test']['list'].append(m_a_e(y_test, rand_forest.predict(X_test)))\n",
    "    \n",
    "    \n",
    "    accuracy_dict[max_f]['r2']['oob']['mean'] = np.mean(accuracy_dict[max_f]['r2']['oob']['list'])\n",
    "    accuracy_dict[max_f]['mse']['oob']['mean'] = np.mean(accuracy_dict[max_f]['mse']['oob']['list'])\n",
    "    accuracy_dict[max_f]['mae']['oob']['mean'] = np.mean(accuracy_dict[max_f]['mae']['oob']['list'])\n",
    "    \n",
    "    accuracy_dict[max_f]['r2']['train']['mean'] = np.mean(accuracy_dict[max_f]['r2']['train']['list'])\n",
    "    accuracy_dict[max_f]['mse']['train']['mean'] = np.mean(accuracy_dict[max_f]['mse']['train']['list'])\n",
    "    accuracy_dict[max_f]['mae']['train']['mean'] = np.mean(accuracy_dict[max_f]['mae']['train']['list'])\n",
    "                            \n",
    "    accuracy_dict[max_f]['r2']['test']['mean'] = np.mean(accuracy_dict[max_f]['r2']['test']['list'])\n",
    "    accuracy_dict[max_f]['mse']['test']['mean'] = np.mean(accuracy_dict[max_f]['mse']['test']['list'])\n",
    "    accuracy_dict[max_f]['mae']['test']['mean'] = np.mean(accuracy_dict[max_f]['mae']['test']['list'])\n",
    "    print(max_f)\n",
    "                            \n",
    "#change other parameters as we see fit (probably max_depth, min_size_leaf, min_size_split)"
   ]
  },
  {
   "cell_type": "code",
   "execution_count": 17,
   "metadata": {},
   "outputs": [],
   "source": [
    "column_pairs = list()\n",
    "groups = ['oob', 'train', 'test']\n",
    "metrics = ['r2', 'rmse', 'mae']\n",
    "for group in groups:\n",
    "    for metric in metrics:\n",
    "        column_pairs.append((group, metric))\n",
    "\n",
    "micolumns = pd.MultiIndex.from_tuples(column_pairs)\n",
    "\n",
    "accuracy_means = pd.DataFrame(columns = micolumns)"
   ]
  },
  {
   "cell_type": "code",
   "execution_count": 18,
   "metadata": {},
   "outputs": [
    {
     "data": {
      "text/html": [
       "<div>\n",
       "<style scoped>\n",
       "    .dataframe tbody tr th:only-of-type {\n",
       "        vertical-align: middle;\n",
       "    }\n",
       "\n",
       "    .dataframe tbody tr th {\n",
       "        vertical-align: top;\n",
       "    }\n",
       "\n",
       "    .dataframe thead tr th {\n",
       "        text-align: left;\n",
       "    }\n",
       "</style>\n",
       "<table border=\"1\" class=\"dataframe\">\n",
       "  <thead>\n",
       "    <tr>\n",
       "      <th></th>\n",
       "      <th colspan=\"3\" halign=\"left\">oob</th>\n",
       "      <th colspan=\"3\" halign=\"left\">train</th>\n",
       "      <th colspan=\"3\" halign=\"left\">test</th>\n",
       "    </tr>\n",
       "    <tr>\n",
       "      <th></th>\n",
       "      <th>r2</th>\n",
       "      <th>rmse</th>\n",
       "      <th>mae</th>\n",
       "      <th>r2</th>\n",
       "      <th>rmse</th>\n",
       "      <th>mae</th>\n",
       "      <th>r2</th>\n",
       "      <th>rmse</th>\n",
       "      <th>mae</th>\n",
       "    </tr>\n",
       "  </thead>\n",
       "  <tbody>\n",
       "    <tr>\n",
       "      <td>0.30</td>\n",
       "      <td>0.887219</td>\n",
       "      <td>3113.038612</td>\n",
       "      <td>2037.288593</td>\n",
       "      <td>0.978480</td>\n",
       "      <td>1357.791803</td>\n",
       "      <td>812.355671</td>\n",
       "      <td>0.911918</td>\n",
       "      <td>2684.956723</td>\n",
       "      <td>1952.165187</td>\n",
       "    </tr>\n",
       "    <tr>\n",
       "      <td>0.40</td>\n",
       "      <td>0.889264</td>\n",
       "      <td>3084.324011</td>\n",
       "      <td>2031.897217</td>\n",
       "      <td>0.978824</td>\n",
       "      <td>1346.778906</td>\n",
       "      <td>809.860985</td>\n",
       "      <td>0.911342</td>\n",
       "      <td>2693.458399</td>\n",
       "      <td>1946.700089</td>\n",
       "    </tr>\n",
       "    <tr>\n",
       "      <td>0.50</td>\n",
       "      <td>0.889220</td>\n",
       "      <td>3084.764597</td>\n",
       "      <td>2021.327489</td>\n",
       "      <td>0.978843</td>\n",
       "      <td>1346.061049</td>\n",
       "      <td>805.890470</td>\n",
       "      <td>0.909611</td>\n",
       "      <td>2719.674324</td>\n",
       "      <td>1957.889659</td>\n",
       "    </tr>\n",
       "    <tr>\n",
       "      <td>0.66</td>\n",
       "      <td>0.889124</td>\n",
       "      <td>3086.359317</td>\n",
       "      <td>2032.543766</td>\n",
       "      <td>0.978826</td>\n",
       "      <td>1346.740629</td>\n",
       "      <td>810.189220</td>\n",
       "      <td>0.908086</td>\n",
       "      <td>2740.934543</td>\n",
       "      <td>1966.498220</td>\n",
       "    </tr>\n",
       "    <tr>\n",
       "      <td>0.75</td>\n",
       "      <td>0.887884</td>\n",
       "      <td>3103.609501</td>\n",
       "      <td>2035.878129</td>\n",
       "      <td>0.978673</td>\n",
       "      <td>1351.626533</td>\n",
       "      <td>811.090704</td>\n",
       "      <td>0.907507</td>\n",
       "      <td>2749.680982</td>\n",
       "      <td>1978.825049</td>\n",
       "    </tr>\n",
       "    <tr>\n",
       "      <td>0.90</td>\n",
       "      <td>0.886629</td>\n",
       "      <td>3120.689715</td>\n",
       "      <td>2054.782310</td>\n",
       "      <td>0.978539</td>\n",
       "      <td>1355.789074</td>\n",
       "      <td>818.024142</td>\n",
       "      <td>0.904384</td>\n",
       "      <td>2795.560763</td>\n",
       "      <td>1992.132238</td>\n",
       "    </tr>\n",
       "    <tr>\n",
       "      <td>0.99</td>\n",
       "      <td>0.887343</td>\n",
       "      <td>3110.481332</td>\n",
       "      <td>2053.717540</td>\n",
       "      <td>0.978659</td>\n",
       "      <td>1351.851940</td>\n",
       "      <td>817.633023</td>\n",
       "      <td>0.902940</td>\n",
       "      <td>2816.152723</td>\n",
       "      <td>1999.915482</td>\n",
       "    </tr>\n",
       "    <tr>\n",
       "      <td>1.00</td>\n",
       "      <td>0.848217</td>\n",
       "      <td>3615.563821</td>\n",
       "      <td>2350.576515</td>\n",
       "      <td>0.973032</td>\n",
       "      <td>1521.833137</td>\n",
       "      <td>928.317892</td>\n",
       "      <td>0.904487</td>\n",
       "      <td>2799.713202</td>\n",
       "      <td>2013.315893</td>\n",
       "    </tr>\n",
       "  </tbody>\n",
       "</table>\n",
       "</div>"
      ],
      "text/plain": [
       "           oob                               train                           \\\n",
       "            r2         rmse          mae        r2         rmse         mae   \n",
       "0.30  0.887219  3113.038612  2037.288593  0.978480  1357.791803  812.355671   \n",
       "0.40  0.889264  3084.324011  2031.897217  0.978824  1346.778906  809.860985   \n",
       "0.50  0.889220  3084.764597  2021.327489  0.978843  1346.061049  805.890470   \n",
       "0.66  0.889124  3086.359317  2032.543766  0.978826  1346.740629  810.189220   \n",
       "0.75  0.887884  3103.609501  2035.878129  0.978673  1351.626533  811.090704   \n",
       "0.90  0.886629  3120.689715  2054.782310  0.978539  1355.789074  818.024142   \n",
       "0.99  0.887343  3110.481332  2053.717540  0.978659  1351.851940  817.633023   \n",
       "1.00  0.848217  3615.563821  2350.576515  0.973032  1521.833137  928.317892   \n",
       "\n",
       "          test                            \n",
       "            r2         rmse          mae  \n",
       "0.30  0.911918  2684.956723  1952.165187  \n",
       "0.40  0.911342  2693.458399  1946.700089  \n",
       "0.50  0.909611  2719.674324  1957.889659  \n",
       "0.66  0.908086  2740.934543  1966.498220  \n",
       "0.75  0.907507  2749.680982  1978.825049  \n",
       "0.90  0.904384  2795.560763  1992.132238  \n",
       "0.99  0.902940  2816.152723  1999.915482  \n",
       "1.00  0.904487  2799.713202  2013.315893  "
      ]
     },
     "execution_count": 18,
     "metadata": {},
     "output_type": "execute_result"
    }
   ],
   "source": [
    "for max_f in max_features:\n",
    "    oob_r2 = accuracy_dict[max_f]['r2']['oob']['mean']\n",
    "    oob_mse = accuracy_dict[max_f]['mse']['oob']['mean']\n",
    "    oob_rmse = np.sqrt(oob_mse)\n",
    "    oob_mae = accuracy_dict[max_f]['mae']['oob']['mean']\n",
    "    \n",
    "    train_r2 = accuracy_dict[max_f]['r2']['train']['mean']\n",
    "    train_mse = accuracy_dict[max_f]['mse']['train']['mean']\n",
    "    train_rmse = np.sqrt(train_mse)\n",
    "    train_mae = accuracy_dict[max_f]['mae']['train']['mean']\n",
    "    \n",
    "    test_r2 = accuracy_dict[max_f]['r2']['test']['mean']\n",
    "    test_mse = accuracy_dict[max_f]['mse']['test']['mean']\n",
    "    test_rmse = np.sqrt(test_mse)\n",
    "    test_mae = accuracy_dict[max_f]['mae']['test']['mean']\n",
    "    \n",
    "    accuracy_means.loc[max_f] = [oob_r2, oob_rmse, oob_mae,train_r2,train_rmse,train_mae,\n",
    "                                 test_r2,test_rmse,test_mae]\n",
    "accuracy_means.sort_index(inplace = True)\n",
    "accuracy_means"
   ]
  },
  {
   "cell_type": "code",
   "execution_count": 19,
   "metadata": {},
   "outputs": [
    {
     "data": {
      "image/png": "[encoded data removed]",
      "text/plain": [
       "<Figure size 1152x288 with 3 Axes>"
      ]
     },
     "metadata": {
      "image/png": {
       "height": 277,
       "width": 938
      },
      "needs_background": "light"
     },
     "output_type": "display_data"
    }
   ],
   "source": [
    "fig, (ax1, ax2, ax3) = plt.subplots(1,3, figsize =(16,4))\n",
    "ax1.plot(accuracy_means.index, accuracy_means['oob', 'r2'])\n",
    "ax1.title.set_text('OOB - R^2')\n",
    "ax1.set_xlabel('max features')\n",
    "ax2.plot(accuracy_means.index, accuracy_means['oob', 'rmse'])\n",
    "ax2.title.set_text('OOB -  Square Root MSE')\n",
    "ax2.set_xlabel('max features')\n",
    "ax3.plot(accuracy_means.index, accuracy_means['oob', 'mae'])\n",
    "ax3.title.set_text('OOB - MAE')\n",
    "ax3.set_xlabel('max features')\n",
    "plt.show()"
   ]
  },
  {
   "cell_type": "markdown",
   "metadata": {},
   "source": [
    "##### Using optimal max_features to find feature importance"
   ]
  },
  {
   "cell_type": "code",
   "execution_count": 20,
   "metadata": {},
   "outputs": [
    {
     "name": "stdout",
     "output_type": "stream",
     "text": [
      "OOB score :  0.8879345913590689\n",
      "R^2 of training set:  0.9785216573139004\n",
      "MSE of training set:  1839584.521695811\n",
      "RMSE of training set:  1356.3128406440053\n",
      "MAE of training set:  809.732678147108\n",
      "\n",
      "R^2 of Test set:  0.9091744525514445\n",
      "MSE of Test set:  7433713.74025074\n",
      "RMSE of Test set:  2726.4837685654284\n",
      "MAE of Test set:  1961.5910054593467\n",
      "\n"
     ]
    }
   ],
   "source": [
    "best_max_f = 0.5\n",
    "\n",
    "r2_array = {'train': list(), 'test': list()}\n",
    "mse_array = {'train': list(), 'test': list()}\n",
    "mae_array = {'train': list(), 'test': list()}\n",
    "oob_array = []\n",
    "\n",
    "feature_importances = np.zeros_like(X.columns)\n",
    "for i in range(0,6):\n",
    "    X_train = X.loc[train_test_index[i]['train']]\n",
    "    y_train = y.iloc[train_test_index[i]['train']]\n",
    "    X_test = X.loc[train_test_index[i]['test']]\n",
    "    y_test = y.iloc[train_test_index[i]['test']]\n",
    "    rand_forest = RandomForestRegressor(criterion = 'mse',oob_score = True, max_features = best_max_f,\n",
    "                                        random_state = seed, n_estimators = 100)\n",
    "    rand_forest.fit(X_train, y_train)\n",
    "    \n",
    "    oob_array.append(rand_forest.oob_score_)\n",
    "    \n",
    "    r2_array['train'].append(rand_forest.score(X_train, y_train))\n",
    "    mse_array['train'].append(m_s_e(y_train, rand_forest.predict(X_train)))\n",
    "    mae_array['train'].append(m_a_e(y_train, rand_forest.predict(X_train)))\n",
    "    \n",
    "    r2_array['test'].append(rand_forest.score(X_test, y_test))\n",
    "    mse_array['test'].append(m_s_e(y_test, rand_forest.predict(X_test)))\n",
    "    mae_array['test'].append(m_a_e(y_test, rand_forest.predict(X_test)))\n",
    "    \n",
    "    feature_importances += rand_forest.feature_importances_\n",
    "feature_importances /= 6\n",
    "\n",
    "print('OOB score : ', np.mean(oob_array))\n",
    "print('R^2 of training set: ',np.mean(r2_array['train']))\n",
    "print('MSE of training set: ',np.mean(mse_array['train']))\n",
    "print('RMSE of training set: ', np.sqrt(np.mean(mse_array['train'])))\n",
    "print('MAE of training set: ',np.mean(mae_array['train']))\n",
    "print()\n",
    "print('R^2 of Test set: ',np.mean(r2_array['test']))\n",
    "print('MSE of Test set: ',np.mean(mse_array['test']))\n",
    "print('RMSE of Test set: ', np.sqrt(np.mean(mse_array['test'])))\n",
    "print('MAE of Test set: ',np.mean(mae_array['test']))\n",
    "print()"
   ]
  },
  {
   "cell_type": "code",
   "execution_count": null,
   "metadata": {},
   "outputs": [],
   "source": []
  },
  {
   "cell_type": "code",
   "execution_count": 14,
   "metadata": {},
   "outputs": [
    {
     "data": {
      "image/png": "[encoded data removed]",
      "text/plain": [
       "<Figure size 1080x360 with 1 Axes>"
      ]
     },
     "metadata": {
      "needs_background": "light"
     },
     "output_type": "display_data"
    },
    {
     "name": "stdout",
     "output_type": "stream",
     "text": [
      "C150_4 :  0.19203746768431532\n",
      "TUITIONFEE_OUT :  0.1478679382752011\n",
      "AVGFACSAL :  0.10289588510049691\n",
      "PCIP14 :  0.05829204024799839\n",
      "HIGHDEG_Graduate :  0.041751233426431444\n",
      "PREDDEG_bachelor :  0.040007713117999714\n",
      "C150_4_ISNA :  0.03812255008563618\n",
      "TUITIONFEE_IN :  0.02787874417831902\n",
      "PCIP51 :  0.02259672440532939\n",
      "UGDS :  0.018924985711001218\n",
      "CCBASIC_26.0 :  0.0179581269248042\n",
      "INEXPFTE :  0.01778850716964453\n",
      "PCIP50 :  0.015426337354037159\n",
      "ADM_RATE :  0.014945206226090413\n",
      "REGION_Outlying Areas  :  0.014544520428483471\n",
      "STABBR_PR :  0.01160677063478041\n",
      "PCIP52 :  0.0115735002814613\n",
      "PPTUG_EF :  0.010941050860082584\n",
      "PCIP42 :  0.010554181193160423\n",
      "ADM_RATE_ISNA :  0.009713786825057094\n"
     ]
    }
   ],
   "source": [
    "x = np.arange(20)\n",
    "sorted_inds = np.argsort(-(feature_importances))[:20]\n",
    "sorted_colnames = X.columns[sorted_inds]\n",
    "fig = plt.figure(figsize = (15,5))\n",
    "plt.bar(x,feature_importances[sorted_inds], width = 0.8)\n",
    "plt.xticks(x,(sorted_colnames))\n",
    "plt.show()\n",
    "for i in range(0,20):\n",
    "    print(sorted_colnames[i],': ', feature_importances[sorted_inds[i]])"
   ]
  },
  {
   "cell_type": "markdown",
   "metadata": {},
   "source": [
    "Least accurate predictions"
   ]
  },
  {
   "cell_type": "code",
   "execution_count": 15,
   "metadata": {},
   "outputs": [
    {
     "name": "stdout",
     "output_type": "stream",
     "text": [
      "Union College\n",
      "predicted value:\t 34019.12845947373\n",
      "real value:\t\t 51118.796099869454\n",
      "difference:\t\t 17099.667640395724\n",
      "\n",
      "Union College\n",
      "predicted value:\t 36899.72309229433\n",
      "real value:\t\t 51118.796099869454\n",
      "difference:\t\t 14219.073007575127\n",
      "\n",
      "Emmanuel College\n",
      "predicted value:\t 38223.11129987883\n",
      "real value:\t\t 26327.71662859008\n",
      "difference:\t\t -11895.394671288752\n",
      "\n",
      "Wentworth Institute of Technology\n",
      "predicted value:\t 43880.94999421583\n",
      "real value:\t\t 54601.84032310705\n",
      "difference:\t\t 10720.890328891219\n",
      "\n",
      "Duke University\n",
      "predicted value:\t 68227.622596027\n",
      "real value:\t\t 78163.61006853786\n",
      "difference:\t\t 9935.987472510868\n",
      "\n",
      "Grand Canyon University\n",
      "predicted value:\t 38233.28604038504\n",
      "real value:\t\t 29093.663511749346\n",
      "difference:\t\t -9139.622528635697\n",
      "\n",
      "MCPHS University\n",
      "predicted value:\t 86677.03104344365\n",
      "real value:\t\t 77548.95520561357\n",
      "difference:\t\t -9128.075837830082\n",
      "\n",
      "United Talmudical Seminary\n",
      "predicted value:\t 22263.36980339271\n",
      "real value:\t\t 13317.52203002611\n",
      "difference:\t\t -8945.8477733666\n",
      "\n",
      "Rust College\n",
      "predicted value:\t 27617.552637216464\n",
      "real value:\t\t 18849.41579634465\n",
      "difference:\t\t -8768.136840871815\n",
      "\n",
      "Massachusetts Maritime Academy\n",
      "predicted value:\t 59523.3355427384\n",
      "real value:\t\t 67919.36235313315\n",
      "difference:\t\t 8396.026810394753\n",
      "\n"
     ]
    }
   ],
   "source": [
    "prediction = rand_forest.predict(X_test)\n",
    "diff = y_test - prediction\n",
    "absdiff = np.abs(prediction - y_test)\n",
    "sorted_inds = np.argsort(-(absdiff))[:10]\n",
    "\n",
    "for i in sorted_inds:\n",
    "    name_index = train_test_index[5]['test'][i]\n",
    "    print(name[name_index])\n",
    "    print('predicted value:\\t',prediction[i])\n",
    "    print('real value:\\t\\t', y_test[name_index])\n",
    "    print('difference:\\t\\t', diff[name_index])\n",
    "    print()"
   ]
  },
  {
   "cell_type": "markdown",
   "metadata": {},
   "source": [
    "Most accurate predictions"
   ]
  },
  {
   "cell_type": "code",
   "execution_count": 16,
   "metadata": {},
   "outputs": [
    {
     "name": "stdout",
     "output_type": "stream",
     "text": [
      "Holy Family University\n",
      "41384.6700079958\n",
      "41386.760770234985\n",
      "2.090762239182368\n",
      "\n",
      "West Hills College-Lemoore\n",
      "24583.415728314227\n",
      "24586.194516971278\n",
      "2.7787886570513365\n",
      "\n",
      "Keuka College\n",
      "38933.9018649612\n",
      "38928.141318537855\n",
      "-5.760546423342021\n",
      "\n",
      "St Bonaventure University\n",
      "38013.147775133264\n",
      "38006.159024151435\n",
      "-6.988750981829071\n",
      "\n",
      "Adelphi University\n",
      "44554.21840237398\n",
      "44562.47756201044\n",
      "8.259159636458207\n",
      "\n",
      "San Diego City College\n",
      "23653.90413156503\n",
      "23664.212222584854\n",
      "10.308091019825952\n",
      "\n",
      "Lake Michigan College\n",
      "23470.438426064848\n",
      "23459.327268276764\n",
      "-11.111157788083801\n",
      "\n",
      "Indiana State University\n",
      "32565.29183499028\n",
      "32576.707734986943\n",
      "11.415899996663939\n",
      "\n",
      "Snead State Community College\n",
      "22958.945768771715\n",
      "22947.11488250653\n",
      "-11.830886265186564\n",
      "\n",
      "Chowan University\n",
      "25291.306851255904\n",
      "25303.291857049608\n",
      "11.985005793703749\n",
      "\n"
     ]
    }
   ],
   "source": [
    "prediction = rand_forest.predict(X_test)\n",
    "diff = y_test - prediction\n",
    "absdiff = np.abs(prediction - y_test)\n",
    "sorted_inds = np.argsort(absdiff)[:10]\n",
    "\n",
    "for i in sorted_inds:\n",
    "    name_index = train_test_index[5]['test'][i]\n",
    "    print(name[name_index])\n",
    "    print(prediction[i])\n",
    "    print(y_test[name_index])\n",
    "    print(diff[name_index])\n",
    "    print()"
   ]
  },
  {
   "cell_type": "markdown",
   "metadata": {},
   "source": [
    "## Gradient Tree Boosting"
   ]
  },
  {
   "cell_type": "markdown",
   "metadata": {},
   "source": [
    "While Random Forest is an *averaging* ensemble method, gradient tree boosting is by contrast a *boosting* ensenble method by which base estimators are built sequentially and the goal is to reduce the bias of the combined estimator. In each stage a regression tree is fit on the negative gradient of the given loss function."
   ]
  },
  {
   "cell_type": "code",
   "execution_count": 17,
   "metadata": {},
   "outputs": [
    {
     "name": "stdout",
     "output_type": "stream",
     "text": [
      "R^2 of training set:  0.8298320996888718\n",
      "MSE of training set:  14454970.038368069\n",
      "RMSE of training set:  3801.969231644053\n",
      "MAE of training set:  2724.8084779881415\n",
      "\n",
      "R^2 of Test set:  0.7977496600680826\n",
      "MSE of Test set:  16531370.477139687\n",
      "RMSE of Test set:  4065.8788074830377\n",
      "MAE of Test set:  2978.6400471722377\n",
      "\n"
     ]
    }
   ],
   "source": [
    "from sklearn.ensemble import GradientBoostingRegressor\n",
    "\n",
    "# Model\n",
    "\n",
    "#Set up arrays for evaluating results\n",
    "r2_array = {'train': list(), 'test': list()}\n",
    "mse_array = {'train': list(), 'test': list()}\n",
    "mae_array = {'train': list(), 'test': list()}\n",
    "\n",
    "# To start will use these hyperparameters\n",
    "loss = 'ls' #default -- least squares\n",
    "n_estimators = 500 #default is 100 but GB is very robust to overfitting so ok to use more\n",
    "learning_rate = 0.1 #default\n",
    "max_depth = 1 #default\n",
    "\n",
    "\n",
    "feature_importances = np.zeros_like(X.columns)\n",
    "for i in range(0,6):\n",
    "    X_train = X.loc[train_test_index[i]['train']]\n",
    "    y_train = y.iloc[train_test_index[i]['train']]\n",
    "    X_test = X.loc[train_test_index[i]['test']]\n",
    "    y_test = y.iloc[train_test_index[i]['test']]\n",
    "    gbr = GradientBoostingRegressor(n_estimators=n_estimators, learning_rate=learning_rate,\n",
    "        max_depth=max_depth, random_state=0, loss=loss)\n",
    "    gbr.fit(X_train, y_train)\n",
    "    \n",
    "    r2_array['train'].append(gbr.score(X_train, y_train))\n",
    "    mse_array['train'].append(m_s_e(y_train, gbr.predict(X_train)))\n",
    "    mae_array['train'].append(m_a_e(y_train, gbr.predict(X_train)))\n",
    "    \n",
    "    r2_array['test'].append(gbr.score(X_test, y_test))\n",
    "    mse_array['test'].append(m_s_e(y_test, gbr.predict(X_test)))\n",
    "    mae_array['test'].append(m_a_e(y_test, gbr.predict(X_test)))\n",
    "    \n",
    "    feature_importances += gbr.feature_importances_\n",
    "feature_importances /= 6\n",
    "\n",
    "\n",
    "print('R^2 of training set: ',np.mean(r2_array['train']))\n",
    "print('MSE of training set: ',np.mean(mse_array['train']))\n",
    "print('RMSE of training set: ', np.sqrt(np.mean(mse_array['train'])))\n",
    "print('MAE of training set: ',np.mean(mae_array['train']))\n",
    "print()\n",
    "print('R^2 of Test set: ',np.mean(r2_array['test']))\n",
    "print('MSE of Test set: ',np.mean(mse_array['test']))\n",
    "print('RMSE of Test set: ', np.sqrt(np.mean(mse_array['test'])))\n",
    "print('MAE of Test set: ',np.mean(mae_array['test']))\n",
    "print()"
   ]
  },
  {
   "cell_type": "code",
   "execution_count": 18,
   "metadata": {},
   "outputs": [
    {
     "data": {
      "image/png": "[encoded data removed]",
      "text/plain": [
       "<Figure size 1080x360 with 1 Axes>"
      ]
     },
     "metadata": {
      "needs_background": "light"
     },
     "output_type": "display_data"
    },
    {
     "name": "stdout",
     "output_type": "stream",
     "text": [
      "C150_4 :  0.24558705174943796\n",
      "TUITIONFEE_OUT :  0.21784662493433685\n",
      "AVGFACSAL :  0.11581489572590314\n",
      "HIGHDEG_Graduate :  0.10672630883483443\n",
      "PCIP14 :  0.1047707018357218\n",
      "REGION_Outlying Areas  :  0.028951680818978698\n",
      "TUITIONFEE_IN :  0.01413325107493007\n",
      "YEAR :  0.011764657745818216\n",
      "REGION_Southeast  :  0.011150598339435235\n",
      "CCBASIC_26.0 :  0.011128689674465514\n"
     ]
    }
   ],
   "source": [
    "# Plot feature importance\n",
    "\n",
    "x = np.arange(10)\n",
    "sorted_inds = np.argsort(-(feature_importances))[:10]\n",
    "sorted_colnames = X.columns[sorted_inds]\n",
    "fig = plt.figure(figsize = (15,5))\n",
    "plt.bar(x,feature_importances[sorted_inds], width = 0.8)\n",
    "plt.xticks(x,(sorted_colnames))\n",
    "plt.show()\n",
    "for i in range(0,10):\n",
    "    print(sorted_colnames[i],': ', feature_importances[sorted_inds[i]])"
   ]
  },
  {
   "cell_type": "code",
   "execution_count": 19,
   "metadata": {},
   "outputs": [
    {
     "data": {
      "text/plain": [
       "Text(0, 0.5, 'Deviance')"
      ]
     },
     "execution_count": 19,
     "metadata": {},
     "output_type": "execute_result"
    },
    {
     "data": {
      "image/png": "[encoded data removed]",
      "text/plain": [
       "<Figure size 864x432 with 1 Axes>"
      ]
     },
     "metadata": {
      "needs_background": "light"
     },
     "output_type": "display_data"
    }
   ],
   "source": [
    "# Plot training deviance\n",
    "\n",
    "# compute test set deviance\n",
    "test_score = np.zeros((n_estimators,), dtype=np.float64)\n",
    "\n",
    "for i, y_pred in enumerate(gbr.staged_predict(X_test)):\n",
    "    test_score[i] = gbr.loss_(y_test, y_pred)\n",
    "\n",
    "plt.figure(figsize=(12, 6))\n",
    "plt.subplot(1, 2, 1)\n",
    "plt.title('Deviance')\n",
    "plt.plot(np.arange(n_estimators) + 1, gbr.train_score_, 'b-',\n",
    "         label='Training Set Deviance')\n",
    "plt.plot(np.arange(n_estimators) + 1, test_score, 'r-',\n",
    "         label='Test Set Deviance')\n",
    "plt.legend(loc='upper right')\n",
    "plt.xlabel('Boosting Iterations')\n",
    "plt.ylabel('Deviance')"
   ]
  },
  {
   "cell_type": "code",
   "execution_count": 27,
   "metadata": {},
   "outputs": [],
   "source": [
    "import pickle"
   ]
  },
  {
   "cell_type": "code",
   "execution_count": 28,
   "metadata": {},
   "outputs": [
    {
     "ename": "ValueError",
     "evalue": "Number of features of the model must match the input. Model n_features is 200 and input n_features is 201 ",
     "output_type": "error",
     "traceback": [
      "\u001b[0;31m---------------------------------------------------------------------------\u001b[0m",
      "\u001b[0;31mValueError\u001b[0m                                Traceback (most recent call last)",
      "\u001b[0;32m<ipython-input-28-d51a5b65bd56>\u001b[0m in \u001b[0;36m<module>\u001b[0;34m\u001b[0m\n\u001b[0;32m----> 1\u001b[0;31m \u001b[0munlabeled_data\u001b[0m\u001b[0;34m[\u001b[0m\u001b[0;34m'yhat'\u001b[0m\u001b[0;34m]\u001b[0m \u001b[0;34m=\u001b[0m \u001b[0mrand_forest\u001b[0m\u001b[0;34m.\u001b[0m\u001b[0mpredict\u001b[0m\u001b[0;34m(\u001b[0m\u001b[0munlabeled_data\u001b[0m\u001b[0;34m)\u001b[0m\u001b[0;34m\u001b[0m\u001b[0;34m\u001b[0m\u001b[0m\n\u001b[0m",
      "\u001b[0;32m~/anaconda3/lib/python3.7/site-packages/sklearn/ensemble/forest.py\u001b[0m in \u001b[0;36mpredict\u001b[0;34m(self, X)\u001b[0m\n\u001b[1;32m    691\u001b[0m         \u001b[0mcheck_is_fitted\u001b[0m\u001b[0;34m(\u001b[0m\u001b[0mself\u001b[0m\u001b[0;34m,\u001b[0m \u001b[0;34m'estimators_'\u001b[0m\u001b[0;34m)\u001b[0m\u001b[0;34m\u001b[0m\u001b[0;34m\u001b[0m\u001b[0m\n\u001b[1;32m    692\u001b[0m         \u001b[0;31m# Check data\u001b[0m\u001b[0;34m\u001b[0m\u001b[0;34m\u001b[0m\u001b[0;34m\u001b[0m\u001b[0m\n\u001b[0;32m--> 693\u001b[0;31m         \u001b[0mX\u001b[0m \u001b[0;34m=\u001b[0m \u001b[0mself\u001b[0m\u001b[0;34m.\u001b[0m\u001b[0m_validate_X_predict\u001b[0m\u001b[0;34m(\u001b[0m\u001b[0mX\u001b[0m\u001b[0;34m)\u001b[0m\u001b[0;34m\u001b[0m\u001b[0;34m\u001b[0m\u001b[0m\n\u001b[0m\u001b[1;32m    694\u001b[0m \u001b[0;34m\u001b[0m\u001b[0m\n\u001b[1;32m    695\u001b[0m         \u001b[0;31m# Assign chunk of trees to jobs\u001b[0m\u001b[0;34m\u001b[0m\u001b[0;34m\u001b[0m\u001b[0;34m\u001b[0m\u001b[0m\n",
      "\u001b[0;32m~/anaconda3/lib/python3.7/site-packages/sklearn/ensemble/forest.py\u001b[0m in \u001b[0;36m_validate_X_predict\u001b[0;34m(self, X)\u001b[0m\n\u001b[1;32m    357\u001b[0m                                  \"call `fit` before exploiting the model.\")\n\u001b[1;32m    358\u001b[0m \u001b[0;34m\u001b[0m\u001b[0m\n\u001b[0;32m--> 359\u001b[0;31m         \u001b[0;32mreturn\u001b[0m \u001b[0mself\u001b[0m\u001b[0;34m.\u001b[0m\u001b[0mestimators_\u001b[0m\u001b[0;34m[\u001b[0m\u001b[0;36m0\u001b[0m\u001b[0;34m]\u001b[0m\u001b[0;34m.\u001b[0m\u001b[0m_validate_X_predict\u001b[0m\u001b[0;34m(\u001b[0m\u001b[0mX\u001b[0m\u001b[0;34m,\u001b[0m \u001b[0mcheck_input\u001b[0m\u001b[0;34m=\u001b[0m\u001b[0;32mTrue\u001b[0m\u001b[0;34m)\u001b[0m\u001b[0;34m\u001b[0m\u001b[0;34m\u001b[0m\u001b[0m\n\u001b[0m\u001b[1;32m    360\u001b[0m \u001b[0;34m\u001b[0m\u001b[0m\n\u001b[1;32m    361\u001b[0m     \u001b[0;34m@\u001b[0m\u001b[0mproperty\u001b[0m\u001b[0;34m\u001b[0m\u001b[0;34m\u001b[0m\u001b[0m\n",
      "\u001b[0;32m~/anaconda3/lib/python3.7/site-packages/sklearn/tree/tree.py\u001b[0m in \u001b[0;36m_validate_X_predict\u001b[0;34m(self, X, check_input)\u001b[0m\n\u001b[1;32m    400\u001b[0m                              \u001b[0;34m\"match the input. Model n_features is %s and \"\u001b[0m\u001b[0;34m\u001b[0m\u001b[0;34m\u001b[0m\u001b[0m\n\u001b[1;32m    401\u001b[0m                              \u001b[0;34m\"input n_features is %s \"\u001b[0m\u001b[0;34m\u001b[0m\u001b[0;34m\u001b[0m\u001b[0m\n\u001b[0;32m--> 402\u001b[0;31m                              % (self.n_features_, n_features))\n\u001b[0m\u001b[1;32m    403\u001b[0m \u001b[0;34m\u001b[0m\u001b[0m\n\u001b[1;32m    404\u001b[0m         \u001b[0;32mreturn\u001b[0m \u001b[0mX\u001b[0m\u001b[0;34m\u001b[0m\u001b[0;34m\u001b[0m\u001b[0m\n",
      "\u001b[0;31mValueError\u001b[0m: Number of features of the model must match the input. Model n_features is 200 and input n_features is 201 "
     ]
    }
   ],
   "source": [
    "unlabeled_data['yhat'] = rand_forest.predict(unlabeled_data)"
   ]
  },
  {
   "cell_type": "code",
   "execution_count": 29,
   "metadata": {},
   "outputs": [],
   "source": [
    "with open('unlabeled_with_prediction.pickle','wb') as f:\n",
    "    pickle.dump(unlabeled_data,f)"
   ]
  },
  {
   "cell_type": "code",
   "execution_count": null,
   "metadata": {},
   "outputs": [],
   "source": []
  }
 ],
 "metadata": {
  "kernelspec": {
   "display_name": "Python 3",
   "language": "python",
   "name": "python3"
  },
  "language_info": {
   "codemirror_mode": {
    "name": "ipython",
    "version": 3
   },
   "file_extension": ".py",
   "mimetype": "text/x-python",
   "name": "python",
   "nbconvert_exporter": "python",
   "pygments_lexer": "ipython3",
   "version": "3.7.3"
  }
 },
 "nbformat": 4,
 "nbformat_minor": 4
}
