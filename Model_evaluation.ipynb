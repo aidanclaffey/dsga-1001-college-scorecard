{
 "cells": [
  {
   "cell_type": "markdown",
   "metadata": {},
   "source": [
    "## Model Evaluation for college scorecard - earnings prediction\n",
    "\n",
    "This notebook will use several different supervised learning regression algorithms to model earnings after college using College Scorecard data. The models included for evaluation will be:\n",
    "\n",
    "1. Linear Regression\n",
    "1. Decision Tree\n",
    "1. Random Forest"
   ]
  },
  {
   "cell_type": "code",
   "execution_count": 337,
   "metadata": {},
   "outputs": [],
   "source": [
    "import numpy as np\n",
    "import pandas as pd\n",
    "import matplotlib.pyplot as plt\n",
    "seed = 12345\n",
    "#load the data\n",
    "\n",
    "data = pd.read_pickle('clean_notna_data.pickle')\n",
    "X = data['X']\n",
    "y = data['y']\n",
    "name = X['INSTNM']\n",
    "X.drop('INSTNM', axis = 1, inplace = True)\n",
    "data = X.copy()\n",
    "data['Y'] = y"
   ]
  },
  {
   "cell_type": "markdown",
   "metadata": {},
   "source": [
    "### Data preprocessing\n",
    "We need to split the data into training and test sets. Also, we need to think about possibly centering/normalizing the data.\n",
    "\n",
    "Normalizing may make sense at least for linear regression, so we can understand the features a little bit better\n",
    "\n",
    "Also, we can think about using PCA (if only for visualization purposes)"
   ]
  },
  {
   "cell_type": "code",
   "execution_count": 338,
   "metadata": {},
   "outputs": [],
   "source": [
    "# Split the data into training and test\n",
    "# Need to figure out best way to split time series data\n",
    "# Do we split based only on colleges (i.e. each college is either train or test)\n",
    "# Do we split based on college and year (i.e. each data entry is either train or test)\n",
    "# Another way to split?\n",
    "\n",
    "train_test_index = {0:'',1:'',2:'',3:'',4:'',5:''}\n",
    "for i in range(0,6):\n",
    "    train_test_index[i] = {\n",
    "        'train': X[X['YEAR'] <= i+2002].index,\n",
    "        'test' : X[X['YEAR'] == i + 2003].index\n",
    "    }\n",
    "X.drop('YEAR', axis = 1, inplace = True)"
   ]
  },
  {
   "cell_type": "code",
   "execution_count": 339,
   "metadata": {},
   "outputs": [],
   "source": [
    "from sklearn.model_selection import train_test_split\n",
    "train_val_index = list()\n",
    "train_val_dataset = list()\n",
    "for i in range(len(train_test_index)):\n",
    "    X_i = X.iloc[train_test_index[i]['train']]\n",
    "    y_i = y.iloc[train_test_index[i]['train']]\n",
    "    train_val_dataset.append(train_test_split(X_i,y_i,test_size = .2, random_state = seed))\n",
    "    train_val_index.append((train_val_dataset[i][0].index,train_val_dataset[i][1].index))"
   ]
  },
  {
   "cell_type": "code",
   "execution_count": null,
   "metadata": {},
   "outputs": [],
   "source": []
  },
  {
   "cell_type": "markdown",
   "metadata": {},
   "source": [
    "### Linear Regression\n",
    "First try: no feature scaling"
   ]
  },
  {
   "cell_type": "code",
   "execution_count": 340,
   "metadata": {},
   "outputs": [
    {
     "name": "stdout",
     "output_type": "stream",
     "text": [
      "R^2 of training set:  0.8323611618698887\n",
      "R^2 of validation set:  0.8159001447615705\n"
     ]
    }
   ],
   "source": [
    "from sklearn.linear_model import LinearRegression\n",
    "accuracy_array = {'train': list(), 'val': list()}\n",
    "linreg_coeffs = np.zeros_like(X.columns)\n",
    "for i in range(0,6):\n",
    "    X_train = X.loc[train_test_index[i]['train']]\n",
    "    y_train = y.iloc[train_test_index[i]['train']]\n",
    "    X_val = X.loc[train_test_index[i]['test']]\n",
    "    y_val = y.iloc[train_test_index[i]['test']]\n",
    "    lin_reg = LinearRegression()\n",
    "    lin_reg.fit(X_train, y_train)\n",
    "    accuracy_array['train'].append(lin_reg.score(X_train, y_train))\n",
    "    accuracy_array['val'].append(lin_reg.score(X_val, y_val))\n",
    "    linreg_coeffs += lin_reg.coef_\n",
    "linreg_coeffs /= 6\n",
    "print('R^2 of training set: ',np.mean(accuracy_array['train']))\n",
    "print('R^2 of validation set: ',np.mean(accuracy_array['val']))"
   ]
  },
  {
   "cell_type": "code",
   "execution_count": null,
   "metadata": {},
   "outputs": [],
   "source": []
  },
  {
   "cell_type": "markdown",
   "metadata": {},
   "source": [
    "Second try: feature scaling"
   ]
  },
  {
   "cell_type": "code",
   "execution_count": null,
   "metadata": {},
   "outputs": [],
   "source": []
  },
  {
   "cell_type": "code",
   "execution_count": 342,
   "metadata": {},
   "outputs": [
    {
     "name": "stdout",
     "output_type": "stream",
     "text": [
      "R^2 of training set:  0.8405600252143582\n",
      "R^2 of validation set:  -9.404224914595542e+22\n"
     ]
    }
   ],
   "source": [
    "from sklearn.preprocessing import StandardScaler\n",
    "scaler = StandardScaler()\n",
    "data_scaled = scaler.fit_transform(data)\n",
    "X_scaled = data_scaled[:,:-1]\n",
    "y_scaled = data_scaled[:,-1]\n",
    "\n",
    "\n",
    "accuracy_array = {'train': list(), 'val': list()}\n",
    "for i in range(0,6):\n",
    "    X_train = X_scaled[train_test_index[i]['train']]\n",
    "    y_train = y_scaled[train_test_index[i]['train']]\n",
    "    X_val = X_scaled[train_test_index[i]['test']]\n",
    "    y_val = y_scaled[train_test_index[i]['test']]\n",
    "    lin_reg = LinearRegression()\n",
    "    lin_reg.fit(X_train, y_train)\n",
    "    accuracy_array['train'].append(lin_reg.score(X_train, y_train))\n",
    "    accuracy_array['val'].append(lin_reg.score(X_val, y_val))\n",
    "print('R^2 of training set: ',np.mean(accuracy_array['train']))\n",
    "print('R^2 of validation set: ',np.mean(accuracy_array['val']))"
   ]
  },
  {
   "cell_type": "markdown",
   "metadata": {},
   "source": [
    "### Decision Tree\n",
    "First using default params, then tuning params\n",
    "We can think also use different criterion for splitting (MSE vs MAE)"
   ]
  },
  {
   "cell_type": "code",
   "execution_count": null,
   "metadata": {},
   "outputs": [],
   "source": [
    "from sklearn.tree import DecisionTreeRegressor\n",
    "#Do decision tree using out of box parameters\n",
    "dec_tree = DecisionTreeRegressor(criterion = 'mse', random_state = seed)\n",
    "dec_tree.fit(X_train, y_train)\n",
    "\n",
    "# Train and test accuracy\n",
    "train_accuracy = dec_tree.score(X_train, y_train)\n",
    "test_accuracy = dec_tree.score(X_test, y_test)\n",
    "print('mse')\n",
    "print('training accuracy:\\t', train_accuracy)\n",
    "print('test accuracy:\\t\\t', test_accuracy)\n",
    "\n",
    "#print top 20 feature importance\n",
    "x = np.arange(20)\n",
    "sorted_inds = np.argsort(-(dec_tree.feature_importances_))[:20]\n",
    "sorted_colnames = X.columns[sorted_inds]\n",
    "fig = plt.figure(figsize = (10,5))\n",
    "plt.bar(x,model.feature_importances_[sorted_inds], width = 0.8)\n",
    "plt.xticks(x,(sorted_colnames))\n",
    "plt.show()\n",
    "\n",
    "#Repeat decision tree using out of box parameters with 'mae' as criterion\n",
    "dec_tree = DecisionTreeRegressor(criterion = 'mae', random_state = seed)\n",
    "dec_tree.fit(X_train, y_train)\n",
    "\n",
    "# Train and test accuracy\n",
    "train_accuracy = dec.score(X_train, y_train)\n",
    "test_accuracy = model.score(X_test, y_test)\n",
    "print('mae')\n",
    "print('training accuracy:\\t', train_accuracy)\n",
    "print('test accuracy:\\t\\t', test_accuracy)\n",
    "\n",
    "#print top 20 feature importance\n",
    "x = np.arange(20)\n",
    "sorted_inds = np.argsort(-(model.feature_importances_))[:20]\n",
    "sorted_colnames = df.columns[sorted_inds]\n",
    "fig = plt.figure(figsize = (10,5))\n",
    "plt.bar(x,model.feature_importances_[sorted_inds], width = 0.8)\n",
    "plt.xticks(x,(sorted_colnames))\n",
    "plt.show()"
   ]
  },
  {
   "cell_type": "markdown",
   "metadata": {},
   "source": [
    "Tune hyper parameters"
   ]
  },
  {
   "cell_type": "code",
   "execution_count": 353,
   "metadata": {},
   "outputs": [],
   "source": [
    "min_samples_split_range = np.arange(??,??,??)\n",
    "min_samples_leaf_range = np.arange(??,??,??)\n",
    "\n",
    "# Function that takes model and outputs R^2\n",
    "def get_r2(criterion, min_split,min_leaf):\n",
    "    model = DecisionTreeRegressor(criterion = criterion, random_state = seed, \n",
    "                                  min_samples_split = min_split,\n",
    "                                  min_samples_leaf = min_leaf)\n",
    "    model.fit(X_train,y_train)\n",
    "    return(model.score(X_test, y_test))\n",
    "\n",
    "r2_array = dict{\n",
    "    'mse' : np.zeros([10,10]),\n",
    "    'mae' : np.zeros([10,10])}\n",
    "#This for loop runs the model\n",
    "for crit in ['mse', 'mae']:\n",
    "    for i in range(0,10):\n",
    "        min_samples_split = min_samples_split_values[i]\n",
    "        for j in range(0,10):\n",
    "            min_samples_leaf = min_samples_leaf_values[j]\n",
    "            r2_array[crit][i,j]=get_r2(crit, min_samples_split,min_samples_leaf)\n",
    "\n",
    "#plot the models\n",
    "fig = plt.figure(figsize = (10,4))\n",
    "for i in range(0,10):\n",
    "    plt.plot(min_samples_split_values, r2_array['mse'][:,i], \n",
    "             label = 'min_leaf: ' + str(min_samples_leaf_values[i]))\n",
    "plt.legend(loc=(1.01,0.25))\n",
    "plt.xticks(min_samples_split_values)\n",
    "plt.xlabel('min_samples_split')\n",
    "plt.title('R^2 for MSE decision tree')\n",
    "plt.show()\n",
    "\n",
    "fig = plt.figure(figsize = (10,4))\n",
    "for i in range(0,10):\n",
    "    plt.plot(min_samples_split_values, r2_array['mae'][:,i], \n",
    "             label = 'min_leaf: ' + str(min_samples_leaf_values[i]))\n",
    "plt.legend(loc=(1.01,0.25))\n",
    "plt.xticks(min_samples_split_values)\n",
    "plt.xlabel('min_samples_split')\n",
    "plt.title('R^2 for MSE decision tree')\n",
    "plt.show()\n",
    "print(np.max(r2_array))"
   ]
  },
  {
   "cell_type": "markdown",
   "metadata": {},
   "source": [
    "### Random forest\n"
   ]
  },
  {
   "cell_type": "code",
   "execution_count": 350,
   "metadata": {},
   "outputs": [
    {
     "name": "stdout",
     "output_type": "stream",
     "text": [
      "mse\n",
      "OOB score :  0.8766904199033547\n",
      "Train accuracy:  0.9780516398978031\n",
      "Validation accuracy:  0.8222860664214225\n",
      "\n"
     ]
    }
   ],
   "source": [
    "#First using out-of-box parameters (which will probably lead to overfitting)\n",
    "#use mse and then use mae\n",
    "from sklearn.ensemble import RandomForestRegressor\n",
    "accuracy_array = {'mse':{'train':list(), 'val': list(), 'oob': list()},\n",
    "                  'mae':{'train':list(), 'val': list(), 'oob': list()}}\n",
    "feature_importances = np.zeros_like(X.columns)\n",
    "for i in range(0,6):\n",
    "    X_train = X.loc[train_val_index[i][0]]\n",
    "    y_train = y.iloc[train_val_index[i][0]]\n",
    "    X_test = X.loc[train_val_index[i][1]]\n",
    "    y_test = y.iloc[train_val_index[i][1]]\n",
    "    rand_forest = RandomForestRegressor(criterion = 'mse',oob_score = True, random_state = seed,\n",
    "                                       n_estimators = 100)\n",
    "    rand_forest.fit(X_train, y_train)\n",
    "    accuracy_array['mse']['oob'].append(rand_forest.oob_score_)\n",
    "    accuracy_array['mse']['train'].append(rand_forest.score(X_train, y_train))\n",
    "    accuracy_array['mse']['val'].append(rand_forest.score(X_test, y_test))\n",
    "    feature_importances += rand_forest.feature_importances_\n",
    "feature_importances /= 6\n",
    "print('mse')\n",
    "print('OOB score : ', np.mean(accuracy_array['mse']['oob']))\n",
    "print('Train accuracy: ', np.mean(accuracy_array['mse']['train']))\n",
    "print('Validation accuracy: ', np.mean(accuracy_array['mse']['val']))\n",
    "print()\n",
    "# rand_forest = RandomForestRegressor(criterion = 'mae',oob_score = True, random_state = seed)\n",
    "# rand_forest.fit(X_train, y_train)\n",
    "# print('mae')\n",
    "# print('OOB score : ' + rand_forest.oob_score())\n",
    "# print('Train accuracy: ' + rand_forest.score(X_train, y_train))\n",
    "# print('Test accuracy: ' + rand_forest.score(X_test, y_test))\n"
   ]
  },
  {
   "cell_type": "code",
   "execution_count": 344,
   "metadata": {},
   "outputs": [
    {
     "data": {
      "image/png": "[encoded data removed]",
      "text/plain": [
       "<Figure size 1080x360 with 1 Axes>"
      ]
     },
     "metadata": {
      "needs_background": "light"
     },
     "output_type": "display_data"
    },
    {
     "name": "stdout",
     "output_type": "stream",
     "text": [
      "C150_4 :  0.26945940433385424\n",
      "TUITIONFEE_OUT :  0.16263081880762828\n",
      "AVGFACSAL :  0.11700871523103434\n",
      "PCIP14 :  0.06859054329274754\n",
      "HIGHDEG_Graduate :  0.0585176535527387\n",
      "TUITIONFEE_IN :  0.022520449712682435\n",
      "REGION_Outlying Areas  :  0.02174976998680138\n",
      "PCIP51 :  0.019307929309829268\n",
      "PCIP50 :  0.015849342207949178\n",
      "ADM_RATE :  0.014056039084847025\n",
      "UGDS :  0.012929762502712537\n",
      "PCIP52 :  0.01260887909878377\n",
      "PPTUG_EF :  0.011268062399665069\n",
      "CCBASIC_26.0 :  0.011209833804264241\n",
      "PCIP13 :  0.010915400093365642\n",
      "GRAD_DEBT_MDN :  0.009735356213739952\n",
      "PCIP42 :  0.009687715151954303\n",
      "REGION_Southeast  :  0.00933222946001444\n",
      "INEXPFTE :  0.006932357213697132\n",
      "PCIP11 :  0.006614375379904503\n"
     ]
    }
   ],
   "source": [
    "x = np.arange(20)\n",
    "sorted_inds = np.argsort(-(feature_importances))[:20]\n",
    "sorted_colnames = X.columns[sorted_inds]\n",
    "fig = plt.figure(figsize = (15,5))\n",
    "plt.bar(x,feature_importances[sorted_inds], width = 0.8)\n",
    "plt.xticks(x,(sorted_colnames))\n",
    "plt.show()\n",
    "for i in range(0,20):\n",
    "    print(sorted_colnames[i],': ', feature_importances[sorted_inds[i]])"
   ]
  },
  {
   "cell_type": "code",
   "execution_count": null,
   "metadata": {},
   "outputs": [],
   "source": []
  },
  {
   "cell_type": "code",
   "execution_count": 346,
   "metadata": {},
   "outputs": [
    {
     "name": "stdout",
     "output_type": "stream",
     "text": [
      "mse\n",
      "OOB score :  0.8863937369019174\n",
      "Train accuracy:  0.9783407241211582\n",
      "Test accuracy:  0.9055674067672123\n",
      "\n"
     ]
    }
   ],
   "source": [
    "#change some parameters and look for improvement (use better of mae and mse)\n",
    "\n",
    "#first change n_estimators (to 100 because that is sklearn's version 0.22 default)\n",
    "# and change max_features to 0.66 (since that is what wikipedia claims is a good starting point\n",
    "# for a random forest regression)\n",
    "n_estimators = 100\n",
    "max_features = 0.66\n",
    "\n",
    "\n",
    "accuracy_array = {'mse':{'train':list(), 'val': list(), 'oob': list()},\n",
    "                  'mae':{'train':list(), 'val': list(), 'oob': list()}}\n",
    "feature_importances = np.zeros_like(X.columns)\n",
    "for i in range(0,6):\n",
    "    X_train = X.loc[train_test_index[i]['train']]\n",
    "    y_train = y.iloc[train_test_index[i]['train']]\n",
    "    X_test = X.loc[train_test_index[i]['test']]\n",
    "    y_test = y.iloc[train_test_index[i]['test']]\n",
    "    rand_forest = RandomForestRegressor(n_estimators = n_estimators, max_features = max_features,\n",
    "                                    criterion = 'mse', oob_score = True, random_state = seed)\n",
    "    rand_forest.fit(X_train, y_train)\n",
    "    accuracy_array['mse']['oob'].append(rand_forest.oob_score_)\n",
    "    accuracy_array['mse']['train'].append(rand_forest.score(X_train, y_train))\n",
    "    accuracy_array['mse']['val'].append(rand_forest.score(X_test, y_test))\n",
    "    feature_importances += rand_forest.feature_importances_\n",
    "feature_importances /= 6\n",
    "print('mse')\n",
    "print('OOB score : ', np.mean(accuracy_array['mse']['oob']))\n",
    "print('Train accuracy: ', np.mean(accuracy_array['mse']['train']))\n",
    "print('Test accuracy: ', np.mean(accuracy_array['mse']['val']))\n",
    "print()\n",
    "#change other parameters as we see fit (probably max_depth, min_size_leaf, min_size_split)"
   ]
  },
  {
   "cell_type": "code",
   "execution_count": 347,
   "metadata": {},
   "outputs": [
    {
     "data": {
      "image/png": "[encoded data removed]",
      "text/plain": [
       "<Figure size 1080x360 with 1 Axes>"
      ]
     },
     "metadata": {
      "needs_background": "light"
     },
     "output_type": "display_data"
    },
    {
     "name": "stdout",
     "output_type": "stream",
     "text": [
      "C150_4 :  0.2280990693940849\n",
      "TUITIONFEE_OUT :  0.17045571560525477\n",
      "AVGFACSAL :  0.10260317285475368\n",
      "PCIP14 :  0.0635125307657225\n",
      "HIGHDEG_Graduate :  0.04798258532851507\n",
      "PREDDEG_bachelor :  0.0337949680552339\n",
      "PCIP51 :  0.025483892956744594\n",
      "TUITIONFEE_IN :  0.023954828212326945\n",
      "CCBASIC_26.0 :  0.018024619769840246\n",
      "UGDS :  0.017331834910620788\n",
      "ADM_RATE :  0.015617523903433688\n",
      "PCIP50 :  0.015241825998528044\n",
      "REGION_Outlying Areas  :  0.013674251792548725\n",
      "PCIP52 :  0.012273795536021911\n",
      "PCIP42 :  0.011742295512048103\n",
      "PPTUG_EF :  0.010807093552307351\n",
      "INEXPFTE :  0.010287063863129874\n",
      "GRAD_DEBT_MDN :  0.00983940020892571\n",
      "PCIP13 :  0.009656458311437648\n",
      "REGION_Southeast  :  0.00898344144098689\n"
     ]
    }
   ],
   "source": [
    "x = np.arange(20)\n",
    "sorted_inds = np.argsort(-(feature_importances))[:20]\n",
    "sorted_colnames = X.columns[sorted_inds]\n",
    "fig = plt.figure(figsize = (15,5))\n",
    "plt.bar(x,feature_importances[sorted_inds], width = 0.8)\n",
    "plt.xticks(x,(sorted_colnames))\n",
    "plt.show()\n",
    "for i in range(0,20):\n",
    "    print(sorted_colnames[i],': ', feature_importances[sorted_inds[i]])"
   ]
  },
  {
   "cell_type": "markdown",
   "metadata": {},
   "source": [
    "Least accurate predictions"
   ]
  },
  {
   "cell_type": "code",
   "execution_count": 348,
   "metadata": {},
   "outputs": [
    {
     "name": "stdout",
     "output_type": "stream",
     "text": [
      "Union College\n",
      "35038.36269615378\n",
      "51118.796099869454\n",
      "16080.433403715673\n",
      "\n",
      "Union College\n",
      "36490.11424230345\n",
      "51118.796099869454\n",
      "14628.681857566007\n",
      "\n",
      "MCPHS University\n",
      "89325.47231182462\n",
      "77548.95520561357\n",
      "11776.517106211046\n",
      "\n",
      "Emmanuel College\n",
      "37840.53473920073\n",
      "26327.71662859008\n",
      "11512.818110610653\n",
      "\n",
      "United Talmudical Seminary\n",
      "23134.440441370116\n",
      "13317.52203002611\n",
      "9816.918411344006\n",
      "\n",
      "Wentworth Institute of Technology\n",
      "44933.00827664928\n",
      "54601.84032310705\n",
      "9668.83204645777\n",
      "\n",
      "Grand Canyon University\n",
      "38649.032315470955\n",
      "29093.663511749346\n",
      "9555.368803721609\n",
      "\n",
      "Alfred University\n",
      "42077.378390241676\n",
      "32781.59268929504\n",
      "9295.785700946639\n",
      "\n",
      "Tulane University of Louisiana\n",
      "53102.63712799698\n",
      "43845.380221932115\n",
      "9257.256906064868\n",
      "\n",
      "Southwest Baptist University\n",
      "37911.758191493296\n",
      "29298.54846605744\n",
      "8613.209725435856\n",
      "\n"
     ]
    }
   ],
   "source": [
    "prediction = rand_forest.predict(X_test)\n",
    "diff = np.abs(prediction - y_test)\n",
    "sorted_inds = np.argsort(-(diff))[:10]\n",
    "\n",
    "for i in sorted_inds:\n",
    "    name_index = train_test_index[5]['test'][i]\n",
    "    print(name[name_index])\n",
    "    print(prediction[i])\n",
    "    print(y_test[name_index])\n",
    "    print(diff[name_index])\n",
    "    print()"
   ]
  },
  {
   "cell_type": "markdown",
   "metadata": {},
   "source": [
    "Most accurate predictions"
   ]
  },
  {
   "cell_type": "code",
   "execution_count": 349,
   "metadata": {},
   "outputs": [
    {
     "name": "stdout",
     "output_type": "stream",
     "text": [
      "Northeast State Community College\n",
      "23255.939289183476\n",
      "23254.44231396867\n",
      "1.496975214806298\n",
      "\n",
      "University of Northern Colorado\n",
      "34627.055797274435\n",
      "34625.557278067885\n",
      "1.4985192065505544\n",
      "\n",
      "John C Calhoun State Community College\n",
      "24583.69035403582\n",
      "24586.194516971278\n",
      "2.5041629354564066\n",
      "\n",
      "Rhodes College\n",
      "38001.26138009157\n",
      "38006.159024151435\n",
      "4.897644059863524\n",
      "\n",
      "Snead State Community College\n",
      "22939.478028719896\n",
      "22947.11488250653\n",
      "7.636853786632855\n",
      "\n",
      "Monmouth University\n",
      "42300.10796154783\n",
      "42308.74306462141\n",
      "8.635103073582286\n",
      "\n",
      "Auburn University\n",
      "40473.42970748855\n",
      "40464.778475848565\n",
      "8.651231639982143\n",
      "\n",
      "Saint Augustine's University\n",
      "22034.24870539377\n",
      "22025.132588120105\n",
      "9.116117273664713\n",
      "\n",
      "Indian Hills Community College\n",
      "28366.582820066054\n",
      "28376.566171671016\n",
      "9.983351604962081\n",
      "\n",
      "University of Central Oklahoma\n",
      "34820.24720736243\n",
      "34830.44223237598\n",
      "10.19502501354873\n",
      "\n"
     ]
    }
   ],
   "source": [
    "prediction = rand_forest.predict(X_test)\n",
    "diff = np.abs(prediction - y_test)\n",
    "sorted_inds = np.argsort(diff)[:10]\n",
    "\n",
    "for i in sorted_inds:\n",
    "    name_index = train_test_index[5]['test'][i]\n",
    "    print(name[name_index])\n",
    "    print(prediction[i])\n",
    "    print(y_test[name_index])\n",
    "    print(diff[name_index])\n",
    "    print()"
   ]
  }
 ],
 "metadata": {
  "kernelspec": {
   "display_name": "Python 3",
   "language": "python",
   "name": "python3"
  },
  "language_info": {
   "codemirror_mode": {
    "name": "ipython",
    "version": 3
   },
   "file_extension": ".py",
   "mimetype": "text/x-python",
   "name": "python",
   "nbconvert_exporter": "python",
   "pygments_lexer": "ipython3",
   "version": "3.7.4"
  }
 },
 "nbformat": 4,
 "nbformat_minor": 2
}
