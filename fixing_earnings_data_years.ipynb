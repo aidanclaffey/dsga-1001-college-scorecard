{
 "cells": [
  {
   "cell_type": "code",
   "execution_count": 211,
   "metadata": {},
   "outputs": [],
   "source": [
    "import pandas as pd\n",
    "import pkg_resources\n",
    "#load pickled data\n",
    "\n",
    "import pickle\n",
    "\n",
    "data = pickle.load(open('raw_df.pickle', 'rb'))"
   ]
  },
  {
   "cell_type": "markdown",
   "metadata": {},
   "source": [
    "We have to match earnings data from certain years to school data from other years to make sure they match up. Additionally, earnings data comes in pooled 2 year averages so for those years, we will take a weighted average of the two years, weighted on the number of students in the data. Here is how the earnings data maps to the college data:\n",
    "\n",
    "|Earnings data year|College Data years|\n",
    "|---|---|\n",
    "|2009|2002, 2003|\n",
    "|2011|2004, 2005|\n",
    "|2012|2005, 2006|\n",
    "|2013|2006, 2007|\n",
    "|2014|2007, 2008|\n"
   ]
  },
  {
   "cell_type": "code",
   "execution_count": 212,
   "metadata": {},
   "outputs": [
    {
     "data": {
      "text/plain": [
       "Index(['INSTNM', 'STABBR', 'ACCREDAGENCY', 'HCM2', 'MAIN', 'NUMBRANCH',\n",
       "       'PREDDEG', 'HIGHDEG', 'CONTROL', 'REGION',\n",
       "       ...\n",
       "       'COMPL_RPY_1YR_RT', 'COMPL_RPY_3YR_RT', 'COMPL_RPY_5YR_RT',\n",
       "       'COMPL_RPY_7YR_RT', 'GRAD_DEBT_MDN', 'COUNT_WNE_P6', 'MD_EARN_WNE_P6',\n",
       "       'PRGMOFR', 'YEAR', 'COSTT4'],\n",
       "      dtype='object', length=101)"
      ]
     },
     "execution_count": 212,
     "metadata": {},
     "output_type": "execute_result"
    }
   ],
   "source": [
    "data.columns"
   ]
  },
  {
   "cell_type": "code",
   "execution_count": 213,
   "metadata": {},
   "outputs": [
    {
     "name": "stdout",
     "output_type": "stream",
     "text": [
      "(10792, 101)\n",
      "(7819, 4)\n"
     ]
    }
   ],
   "source": [
    "#filter the raw data for only years we need\n",
    "college_data_years = [2002,2003,2004,2005,2006,2007,2008]\n",
    "earnings_data_years = [2009,2011,2012,2013,2014]\n",
    "college_data = data[data['YEAR'].isin(college_data_years)]\n",
    "earnings_data = data[data['YEAR'].isin(earnings_data_years)][['INSTNM','YEAR', 'COUNT_WNE_P6','MD_EARN_WNE_P6']]\n",
    "print(college_data.shape)\n",
    "print(earnings_data.shape)"
   ]
  },
  {
   "cell_type": "code",
   "execution_count": 214,
   "metadata": {},
   "outputs": [
    {
     "data": {
      "text/html": [
       "<div>\n",
       "<style scoped>\n",
       "    .dataframe tbody tr th:only-of-type {\n",
       "        vertical-align: middle;\n",
       "    }\n",
       "\n",
       "    .dataframe tbody tr th {\n",
       "        vertical-align: top;\n",
       "    }\n",
       "\n",
       "    .dataframe thead th {\n",
       "        text-align: right;\n",
       "    }\n",
       "</style>\n",
       "<table border=\"1\" class=\"dataframe\">\n",
       "  <thead>\n",
       "    <tr style=\"text-align: right;\">\n",
       "      <th></th>\n",
       "      <th>college_year_1</th>\n",
       "      <th>college_year_2</th>\n",
       "    </tr>\n",
       "    <tr>\n",
       "      <th>YEAR</th>\n",
       "      <th></th>\n",
       "      <th></th>\n",
       "    </tr>\n",
       "  </thead>\n",
       "  <tbody>\n",
       "    <tr>\n",
       "      <td>2009</td>\n",
       "      <td>2002</td>\n",
       "      <td>2003</td>\n",
       "    </tr>\n",
       "    <tr>\n",
       "      <td>2011</td>\n",
       "      <td>2004</td>\n",
       "      <td>2005</td>\n",
       "    </tr>\n",
       "    <tr>\n",
       "      <td>2012</td>\n",
       "      <td>2005</td>\n",
       "      <td>2006</td>\n",
       "    </tr>\n",
       "    <tr>\n",
       "      <td>2013</td>\n",
       "      <td>2006</td>\n",
       "      <td>2007</td>\n",
       "    </tr>\n",
       "    <tr>\n",
       "      <td>2014</td>\n",
       "      <td>2007</td>\n",
       "      <td>2008</td>\n",
       "    </tr>\n",
       "  </tbody>\n",
       "</table>\n",
       "</div>"
      ],
      "text/plain": [
       "      college_year_1  college_year_2\n",
       "YEAR                                \n",
       "2009            2002            2003\n",
       "2011            2004            2005\n",
       "2012            2005            2006\n",
       "2013            2006            2007\n",
       "2014            2007            2008"
      ]
     },
     "execution_count": 214,
     "metadata": {},
     "output_type": "execute_result"
    }
   ],
   "source": [
    "#put in earnings data for the years that it will map to\n",
    "# i.e. earnings data from 2009 will map to 2002 (year 1) and 2003 (year 2)\n",
    "# earnings data from 2011 will map to 2004(year 1) and 2005 (year 2)\n",
    "year_1_merge_map = {2009:2002,2011:2004,2012:2005,2013:2006,2014:2007}\n",
    "year_2_merge_map = {2009:2003,2011:2005,2012:2006,2013:2007,2014:2008}\n",
    "earnings_data['college_year_1'] = earnings_data.YEAR.map(year_1_merge_map)\n",
    "earnings_data['college_year_2'] = earnings_data.YEAR.map(year_2_merge_map)\n",
    "earnings_data.groupby('YEAR').mean()[['college_year_1', 'college_year_2']]"
   ]
  },
  {
   "cell_type": "markdown",
   "metadata": {},
   "source": [
    "I then merge college data and earnings data using pd.merge function. I merge on 'INSTNM' and then 'YEAR' (for college_data), 'college_year_1' and 'college_year_2' (for earnings data) because that seemed like the best option to merge on. I'll output statistics on how succesful the merge was.\n",
    "\n",
    "I had to do two merges, first with the first year earnings and then with the second year earnings."
   ]
  },
  {
   "cell_type": "code",
   "execution_count": 215,
   "metadata": {},
   "outputs": [
    {
     "name": "stdout",
     "output_type": "stream",
     "text": [
      "merged\n",
      "False      273\n",
      "True     11332\n",
      "Name: INSTNM, dtype: int64\n"
     ]
    },
    {
     "data": {
      "text/plain": [
       "Index(['INSTNM', 'STABBR', 'ACCREDAGENCY', 'HCM2', 'MAIN', 'NUMBRANCH',\n",
       "       'PREDDEG', 'HIGHDEG', 'CONTROL', 'REGION',\n",
       "       ...\n",
       "       'PRGMOFR', 'YEAR', 'COSTT4', 'COUNT_WNE_P6_year_1',\n",
       "       'MD_EARN_WNE_P6_year_1', '_merged_1', 'COUNT_WNE_P6_year_2',\n",
       "       'MD_EARN_WNE_P6_year_2', '_merged_2', 'merged'],\n",
       "      dtype='object', length=108)"
      ]
     },
     "execution_count": 215,
     "metadata": {},
     "output_type": "execute_result"
    }
   ],
   "source": [
    "cols = ['INSTNM', 'COUNT_WNE_P6', 'MD_EARN_WNE_P6', 'college_year_1', 'YEAR']\n",
    "merged_data = college_data.merge(earnings_data[cols],\n",
    "                                 how = 'outer', \n",
    "                                 left_on = ['INSTNM','YEAR'], \n",
    "                                 right_on = ['INSTNM','college_year_1'],\n",
    "                                 suffixes = ('','_year_1'),\n",
    "                                 indicator = '_merged_1')\n",
    "merged_data.groupby('YEAR').count()\n",
    "\n",
    "cols = ['INSTNM', 'COUNT_WNE_P6', 'MD_EARN_WNE_P6', 'college_year_2', 'YEAR']\n",
    "merged_data = merged_data.merge(earnings_data[cols],\n",
    "                                 how = 'outer', \n",
    "                                 left_on = ['INSTNM','YEAR'], \n",
    "                                 right_on = ['INSTNM','college_year_2'],\n",
    "                                 suffixes = ('','_year_2'),\n",
    "                                 indicator = '_merged_2')\n",
    "\n",
    "\n",
    "\n",
    "merged_data.drop(['YEAR_year_1', 'YEAR_year_2', 'college_year_1', 'college_year_2'],axis = 1, inplace = True)\n",
    "\n",
    "#Check how many entries merged at least one of the two columns\n",
    "merged_data['merged'] = merged_data.apply(lambda x: x._merged_1 == 'both' or x._merged_2 == 'both', axis = 1)\n",
    "print(merged_data.groupby('merged').count()['INSTNM'])\n",
    "\n",
    "# drop those colleges that didn't match either one\n",
    "merged_data = merged_data[merged_data['merged'] == True]\n",
    "\n",
    "merged_data.columns"
   ]
  },
  {
   "cell_type": "code",
   "execution_count": 216,
   "metadata": {},
   "outputs": [],
   "source": [
    "#Fill the 'nan' values with 0s so we can use them to do the weighted average\n",
    "columns = ['COUNT_WNE_P6_year_1', 'COUNT_WNE_P6_year_2', 'MD_EARN_WNE_P6_year_1', 'MD_EARN_WNE_P6_year_2']\n",
    "for column in columns:\n",
    "    merged_data[column].fillna(0,inplace = True)\n",
    "merged_data = merged_data[merged_data['YEAR'] != 0]\n"
   ]
  },
  {
   "cell_type": "markdown",
   "metadata": {},
   "source": [
    "Because some entries have '0' for 'count' when a median earnings value is not 0, I wrote the weighted average function logic such that, in that case, it weight both years evenly (given both years have earnings). If that is not the case, it will weight the income based on the number given by count for each year"
   ]
  },
  {
   "cell_type": "code",
   "execution_count": 217,
   "metadata": {},
   "outputs": [],
   "source": [
    "\n",
    "def weighted_average(year_1_earnings,year_1_count,year_2_earnings,year_2_count):\n",
    "    num_earnings = int(year_1_earnings != 0) + int(year_2_earnings != 0)\n",
    "    \n",
    "    if(num_earnings == 2):\n",
    "        if year_1_count ==0 or year_2_count ==0:\n",
    "            year_1_count = 1\n",
    "            year_2_count = 1\n",
    "    \n",
    "    if(num_earnings == 1):\n",
    "        if(year_1_earnings ==0):\n",
    "            return year_2_earnings\n",
    "        else: return year_1_earnings\n",
    "        \n",
    "    \n",
    "    if(num_earnings == 0):\n",
    "        return 0\n",
    "    else:\n",
    "        year_1_weight = year_1_count/(year_1_count + year_2_count)\n",
    "        year_2_weight = year_2_count/(year_1_count + year_2_count)\n",
    "        return year_1_earnings*year_1_weight + year_2_earnings*year_2_weight\n",
    "\n",
    "merged_data['MD_EARN_AVG'] = merged_data.apply(lambda x: weighted_average(x['MD_EARN_WNE_P6_year_1'],\n",
    "                                                                         x['COUNT_WNE_P6_year_1'],\n",
    "                                                                         x['MD_EARN_WNE_P6_year_2'],\n",
    "                                                                         x['COUNT_WNE_P6_year_2']),\n",
    "                                              axis = 1)"
   ]
  },
  {
   "cell_type": "code",
   "execution_count": 218,
   "metadata": {},
   "outputs": [
    {
     "data": {
      "text/html": [
       "<div>\n",
       "<style scoped>\n",
       "    .dataframe tbody tr th:only-of-type {\n",
       "        vertical-align: middle;\n",
       "    }\n",
       "\n",
       "    .dataframe tbody tr th {\n",
       "        vertical-align: top;\n",
       "    }\n",
       "\n",
       "    .dataframe thead th {\n",
       "        text-align: right;\n",
       "    }\n",
       "</style>\n",
       "<table border=\"1\" class=\"dataframe\">\n",
       "  <thead>\n",
       "    <tr style=\"text-align: right;\">\n",
       "      <th></th>\n",
       "      <th>COUNT_WNE_P6_year_1</th>\n",
       "      <th>MD_EARN_WNE_P6_year_1</th>\n",
       "      <th>COUNT_WNE_P6_year_2</th>\n",
       "      <th>MD_EARN_WNE_P6_year_2</th>\n",
       "      <th>merged</th>\n",
       "      <th>MD_EARN_AVG</th>\n",
       "    </tr>\n",
       "    <tr>\n",
       "      <th>YEAR</th>\n",
       "      <th></th>\n",
       "      <th></th>\n",
       "      <th></th>\n",
       "      <th></th>\n",
       "      <th></th>\n",
       "      <th></th>\n",
       "    </tr>\n",
       "  </thead>\n",
       "  <tbody>\n",
       "    <tr>\n",
       "      <td>2002.0</td>\n",
       "      <td>2141.405594</td>\n",
       "      <td>31997.902098</td>\n",
       "      <td>0.000000</td>\n",
       "      <td>0.000000</td>\n",
       "      <td>True</td>\n",
       "      <td>31997.902098</td>\n",
       "    </tr>\n",
       "    <tr>\n",
       "      <td>2003.0</td>\n",
       "      <td>0.000000</td>\n",
       "      <td>0.000000</td>\n",
       "      <td>2136.257758</td>\n",
       "      <td>31958.644712</td>\n",
       "      <td>True</td>\n",
       "      <td>31958.644712</td>\n",
       "    </tr>\n",
       "    <tr>\n",
       "      <td>2004.0</td>\n",
       "      <td>2087.631111</td>\n",
       "      <td>30267.111111</td>\n",
       "      <td>0.000000</td>\n",
       "      <td>0.000000</td>\n",
       "      <td>True</td>\n",
       "      <td>30267.111111</td>\n",
       "    </tr>\n",
       "    <tr>\n",
       "      <td>2005.0</td>\n",
       "      <td>2037.761705</td>\n",
       "      <td>30197.298920</td>\n",
       "      <td>2025.350540</td>\n",
       "      <td>30175.810324</td>\n",
       "      <td>True</td>\n",
       "      <td>30228.048061</td>\n",
       "    </tr>\n",
       "    <tr>\n",
       "      <td>2006.0</td>\n",
       "      <td>2159.811456</td>\n",
       "      <td>30843.019093</td>\n",
       "      <td>2037.577566</td>\n",
       "      <td>30144.093079</td>\n",
       "      <td>True</td>\n",
       "      <td>30556.245760</td>\n",
       "    </tr>\n",
       "    <tr>\n",
       "      <td>2007.0</td>\n",
       "      <td>2438.751342</td>\n",
       "      <td>32371.317829</td>\n",
       "      <td>2166.744186</td>\n",
       "      <td>30860.584377</td>\n",
       "      <td>True</td>\n",
       "      <td>31702.873762</td>\n",
       "    </tr>\n",
       "    <tr>\n",
       "      <td>2008.0</td>\n",
       "      <td>0.000000</td>\n",
       "      <td>0.000000</td>\n",
       "      <td>2523.989281</td>\n",
       "      <td>32421.752837</td>\n",
       "      <td>True</td>\n",
       "      <td>32421.752837</td>\n",
       "    </tr>\n",
       "  </tbody>\n",
       "</table>\n",
       "</div>"
      ],
      "text/plain": [
       "        COUNT_WNE_P6_year_1  MD_EARN_WNE_P6_year_1  COUNT_WNE_P6_year_2  \\\n",
       "YEAR                                                                      \n",
       "2002.0          2141.405594           31997.902098             0.000000   \n",
       "2003.0             0.000000               0.000000          2136.257758   \n",
       "2004.0          2087.631111           30267.111111             0.000000   \n",
       "2005.0          2037.761705           30197.298920          2025.350540   \n",
       "2006.0          2159.811456           30843.019093          2037.577566   \n",
       "2007.0          2438.751342           32371.317829          2166.744186   \n",
       "2008.0             0.000000               0.000000          2523.989281   \n",
       "\n",
       "        MD_EARN_WNE_P6_year_2  merged   MD_EARN_AVG  \n",
       "YEAR                                                 \n",
       "2002.0               0.000000    True  31997.902098  \n",
       "2003.0           31958.644712    True  31958.644712  \n",
       "2004.0               0.000000    True  30267.111111  \n",
       "2005.0           30175.810324    True  30228.048061  \n",
       "2006.0           30144.093079    True  30556.245760  \n",
       "2007.0           30860.584377    True  31702.873762  \n",
       "2008.0           32421.752837    True  32421.752837  "
      ]
     },
     "execution_count": 218,
     "metadata": {},
     "output_type": "execute_result"
    }
   ],
   "source": [
    "merged_data.groupby('YEAR').mean().iloc[:,-6:]"
   ]
  },
  {
   "cell_type": "code",
   "execution_count": 219,
   "metadata": {},
   "outputs": [
    {
     "data": {
      "text/plain": [
       "Index(['PCTFLOAN', 'UG25ABV', 'COMPL_RPY_1YR_RT', 'COMPL_RPY_3YR_RT',\n",
       "       'COMPL_RPY_5YR_RT', 'COMPL_RPY_7YR_RT', 'GRAD_DEBT_MDN', 'COUNT_WNE_P6',\n",
       "       'MD_EARN_WNE_P6', 'PRGMOFR', 'YEAR', 'COSTT4', 'COUNT_WNE_P6_year_1',\n",
       "       'MD_EARN_WNE_P6_year_1', '_merged_1', 'COUNT_WNE_P6_year_2',\n",
       "       'MD_EARN_WNE_P6_year_2', '_merged_2', 'merged', 'MD_EARN_AVG'],\n",
       "      dtype='object')"
      ]
     },
     "execution_count": 219,
     "metadata": {},
     "output_type": "execute_result"
    }
   ],
   "source": [
    "merged_data.columns[-20:]"
   ]
  },
  {
   "cell_type": "code",
   "execution_count": 220,
   "metadata": {},
   "outputs": [],
   "source": [
    "#drop columns not needed for analysis\n",
    "merged_data.drop(['COUNT_WNE_P6', 'MD_EARN_WNE_P6', 'merged'], axis = 1, inplace = True)"
   ]
  },
  {
   "cell_type": "code",
   "execution_count": 221,
   "metadata": {},
   "outputs": [],
   "source": [
    "with open(\"merged_earnings_df.pickle\", \"wb\") as f:\n",
    "    pickle.dump(merged_data, f)"
   ]
  }
 ],
 "metadata": {
  "kernelspec": {
   "display_name": "Python 3",
   "language": "python",
   "name": "python3"
  },
  "language_info": {
   "codemirror_mode": {
    "name": "ipython",
    "version": 3
   },
   "file_extension": ".py",
   "mimetype": "text/x-python",
   "name": "python",
   "nbconvert_exporter": "python",
   "pygments_lexer": "ipython3",
   "version": "3.7.4"
  }
 },
 "nbformat": 4,
 "nbformat_minor": 2
}
